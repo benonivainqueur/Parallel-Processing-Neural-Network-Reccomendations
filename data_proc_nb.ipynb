{
 "cells": [
  {
   "cell_type": "code",
   "execution_count": 1,
   "id": "f8fc05b6-9adf-441f-b3e2-2576742a1480",
   "metadata": {},
   "outputs": [],
   "source": [
    "import numpy as np\n",
    "import pandas as pd\n",
    "import matplotlib.pyplot as plt\n",
    "from matplotlib.pyplot import figure"
   ]
  },
  {
   "cell_type": "code",
   "execution_count": 43,
   "id": "afe2ad35-a3f6-4ee5-b838-ecfe9d715dd5",
   "metadata": {},
   "outputs": [],
   "source": [
    "df['transcript'] = df['transcript'].apply(lambda x:x.replace('\\n',' '))"
   ]
  },
  {
   "cell_type": "code",
   "execution_count": 44,
   "id": "379c2f75-05a8-4fbf-bac4-7294e58aeac8",
   "metadata": {},
   "outputs": [
    {
     "data": {
      "text/plain": [
       "159"
      ]
     },
     "execution_count": 44,
     "metadata": {},
     "output_type": "execute_result"
    }
   ],
   "source": [
    "df['playlist_name'].nunique()"
   ]
  },
  {
   "cell_type": "code",
   "execution_count": null,
   "id": "47baa5d9-8bf6-4836-9d43-d02d74239212",
   "metadata": {},
   "outputs": [],
   "source": [
    "df.shape"
   ]
  },
  {
   "cell_type": "code",
   "execution_count": null,
   "id": "59e88bb1-9597-4134-8520-bc209cade03b",
   "metadata": {},
   "outputs": [],
   "source": [
    "(df['playlist_name'].values == '').sum()"
   ]
  },
  {
   "cell_type": "code",
   "execution_count": 5,
   "id": "732557c6-a415-4ec9-b383-673fee2a6062",
   "metadata": {},
   "outputs": [],
   "source": [
    "df_processed = pd.read_csv('ytdataset_preprocessed.csv',index_col=[0])"
   ]
  },
  {
   "cell_type": "code",
   "execution_count": 6,
   "id": "d4fdb133-d9ff-4048-b704-09c857016fd2",
   "metadata": {},
   "outputs": [
    {
     "data": {
      "text/html": [
       "<div>\n",
       "<style scoped>\n",
       "    .dataframe tbody tr th:only-of-type {\n",
       "        vertical-align: middle;\n",
       "    }\n",
       "\n",
       "    .dataframe tbody tr th {\n",
       "        vertical-align: top;\n",
       "    }\n",
       "\n",
       "    .dataframe thead th {\n",
       "        text-align: right;\n",
       "    }\n",
       "</style>\n",
       "<table border=\"1\" class=\"dataframe\">\n",
       "  <thead>\n",
       "    <tr style=\"text-align: right;\">\n",
       "      <th></th>\n",
       "      <th>title</th>\n",
       "      <th>transcript</th>\n",
       "      <th>playlist_name</th>\n",
       "    </tr>\n",
       "  </thead>\n",
       "  <tbody>\n",
       "    <tr>\n",
       "      <th>0</th>\n",
       "      <td>introduction to vertex ai feature store</td>\n",
       "      <td>priyanka vergadia did you know that most of th...</td>\n",
       "      <td>ai and machine learning with google cloud</td>\n",
       "    </tr>\n",
       "    <tr>\n",
       "      <th>1</th>\n",
       "      <td>illuminating the global fishing fleet through ...</td>\n",
       "      <td>speaker  oceanic ecosystems are threatened by ...</td>\n",
       "      <td>ai and machine learning with google cloud</td>\n",
       "    </tr>\n",
       "    <tr>\n",
       "      <th>2</th>\n",
       "      <td>hyperparameter tuning on vertex ai</td>\n",
       "      <td>priyanka vergadia hi im priyanka vergadia and ...</td>\n",
       "      <td>ai and machine learning with google cloud</td>\n",
       "    </tr>\n",
       "    <tr>\n",
       "      <th>3</th>\n",
       "      <td>endtoend mlops with vertex ai</td>\n",
       "      <td>priyanka vergadia one of the biggest challenge...</td>\n",
       "      <td>ai and machine learning with google cloud</td>\n",
       "    </tr>\n",
       "    <tr>\n",
       "      <th>4</th>\n",
       "      <td>transformers explained understand the model be...</td>\n",
       "      <td>so if you remember anything about transformers...</td>\n",
       "      <td>the original transformer was designed for tran...</td>\n",
       "    </tr>\n",
       "    <tr>\n",
       "      <th>...</th>\n",
       "      <td>...</td>\n",
       "      <td>...</td>\n",
       "      <td>...</td>\n",
       "    </tr>\n",
       "    <tr>\n",
       "      <th>4996</th>\n",
       "      <td>color vectors  programming with text</td>\n",
       "      <td>bell dinging  hello part two i think im on par...</td>\n",
       "      <td>session  wordvec  programming with text</td>\n",
       "    </tr>\n",
       "    <tr>\n",
       "      <th>4997</th>\n",
       "      <td>color vectors contd  programming with text</td>\n",
       "      <td>bell dings  hello and welcome to wordvec tutor...</td>\n",
       "      <td>session  wordvec  programming with text</td>\n",
       "    </tr>\n",
       "    <tr>\n",
       "      <th>4998</th>\n",
       "      <td>illustrated guide to transformers neural netwo...</td>\n",
       "      <td>transformers are taking the natural language p...</td>\n",
       "      <td>illustrated guide to deep learning</td>\n",
       "    </tr>\n",
       "    <tr>\n",
       "      <th>4999</th>\n",
       "      <td>illustrated guide to lstms and grus a step by ...</td>\n",
       "      <td>hi and welcome to an illustrated guide to lst ...</td>\n",
       "      <td>illustrated guide to deep learning</td>\n",
       "    </tr>\n",
       "    <tr>\n",
       "      <th>5000</th>\n",
       "      <td>illustrated guide to recurrent neural networks...</td>\n",
       "      <td>hi and welcome to an illustrated guide to recu...</td>\n",
       "      <td>illustrated guide to deep learning</td>\n",
       "    </tr>\n",
       "  </tbody>\n",
       "</table>\n",
       "<p>5001 rows × 3 columns</p>\n",
       "</div>"
      ],
      "text/plain": [
       "                                                  title  \\\n",
       "0               introduction to vertex ai feature store   \n",
       "1     illuminating the global fishing fleet through ...   \n",
       "2                    hyperparameter tuning on vertex ai   \n",
       "3                         endtoend mlops with vertex ai   \n",
       "4     transformers explained understand the model be...   \n",
       "...                                                 ...   \n",
       "4996               color vectors  programming with text   \n",
       "4997         color vectors contd  programming with text   \n",
       "4998  illustrated guide to transformers neural netwo...   \n",
       "4999  illustrated guide to lstms and grus a step by ...   \n",
       "5000  illustrated guide to recurrent neural networks...   \n",
       "\n",
       "                                             transcript  \\\n",
       "0     priyanka vergadia did you know that most of th...   \n",
       "1     speaker  oceanic ecosystems are threatened by ...   \n",
       "2     priyanka vergadia hi im priyanka vergadia and ...   \n",
       "3     priyanka vergadia one of the biggest challenge...   \n",
       "4     so if you remember anything about transformers...   \n",
       "...                                                 ...   \n",
       "4996  bell dinging  hello part two i think im on par...   \n",
       "4997  bell dings  hello and welcome to wordvec tutor...   \n",
       "4998  transformers are taking the natural language p...   \n",
       "4999  hi and welcome to an illustrated guide to lst ...   \n",
       "5000  hi and welcome to an illustrated guide to recu...   \n",
       "\n",
       "                                          playlist_name  \n",
       "0             ai and machine learning with google cloud  \n",
       "1             ai and machine learning with google cloud  \n",
       "2             ai and machine learning with google cloud  \n",
       "3             ai and machine learning with google cloud  \n",
       "4     the original transformer was designed for tran...  \n",
       "...                                                 ...  \n",
       "4996            session  wordvec  programming with text  \n",
       "4997            session  wordvec  programming with text  \n",
       "4998                 illustrated guide to deep learning  \n",
       "4999                 illustrated guide to deep learning  \n",
       "5000                 illustrated guide to deep learning  \n",
       "\n",
       "[5001 rows x 3 columns]"
      ]
     },
     "execution_count": 6,
     "metadata": {},
     "output_type": "execute_result"
    }
   ],
   "source": [
    "df_processed"
   ]
  },
  {
   "cell_type": "code",
   "execution_count": 7,
   "id": "6b71439b-d4a7-407d-9958-a59e3c20af71",
   "metadata": {},
   "outputs": [],
   "source": [
    "df = pd.read_csv('ytdataset.csv',index_col=[0])"
   ]
  },
  {
   "cell_type": "code",
   "execution_count": 9,
   "id": "5b156346-b139-411f-925a-b0dc97539f8a",
   "metadata": {},
   "outputs": [
    {
     "data": {
      "text/plain": [
       "4997"
      ]
     },
     "execution_count": 9,
     "metadata": {},
     "output_type": "execute_result"
    }
   ],
   "source": [
    "df['title'].nunique()"
   ]
  },
  {
   "cell_type": "code",
   "execution_count": 10,
   "id": "1655cbc7-f6a5-40a6-97ff-69a84779e8c7",
   "metadata": {},
   "outputs": [
    {
     "data": {
      "text/plain": [
       "4748"
      ]
     },
     "execution_count": 10,
     "metadata": {},
     "output_type": "execute_result"
    }
   ],
   "source": [
    "df_processed['title'].nunique()"
   ]
  },
  {
   "cell_type": "code",
   "execution_count": 11,
   "id": "93d0c736-f88b-4ae1-817e-b146c70682a9",
   "metadata": {},
   "outputs": [
    {
     "data": {
      "text/plain": [
       "2"
      ]
     },
     "execution_count": 11,
     "metadata": {},
     "output_type": "execute_result"
    }
   ],
   "source": [
    "df_processed[''].isna().sum()"
   ]
  },
  {
   "cell_type": "code",
   "execution_count": 14,
   "id": "76085aab-b66b-420d-a681-f37acaf6af15",
   "metadata": {},
   "outputs": [],
   "source": [
    "proc_list = df_processed['playlist_name'].unique()"
   ]
  },
  {
   "cell_type": "code",
   "execution_count": 18,
   "id": "7034addd-3604-4976-b68e-c5536bf29486",
   "metadata": {},
   "outputs": [],
   "source": [
    "orig_list = df['playlist_name'].unique()"
   ]
  },
  {
   "cell_type": "code",
   "execution_count": 16,
   "id": "25d5112d-02b7-4b85-8486-fd31dac3d3a4",
   "metadata": {},
   "outputs": [
    {
     "data": {
      "text/plain": [
       "(419,)"
      ]
     },
     "execution_count": 16,
     "metadata": {},
     "output_type": "execute_result"
    }
   ],
   "source": [
    "proc_list.shape"
   ]
  },
  {
   "cell_type": "code",
   "execution_count": 19,
   "id": "9238f3e2-419c-4c3c-a74a-a634ec38a403",
   "metadata": {},
   "outputs": [
    {
     "data": {
      "text/plain": [
       "(159,)"
      ]
     },
     "execution_count": 19,
     "metadata": {},
     "output_type": "execute_result"
    }
   ],
   "source": [
    "orig_list.shape"
   ]
  },
  {
   "cell_type": "code",
   "execution_count": 25,
   "id": "ea271cad-6be4-4e4b-a628-00a47dac02bc",
   "metadata": {},
   "outputs": [],
   "source": [
    "residual=[]\n",
    "for i in range(proc_list.shape[0]):\n",
    "    processed = proc_list[i]\n",
    "    if processed not in orig_list.tolist():\n",
    "        residual.append(proc_list[i])"
   ]
  },
  {
   "cell_type": "code",
   "execution_count": 21,
   "id": "c512e170-b815-4026-9cc0-8b62dd66038e",
   "metadata": {},
   "outputs": [
    {
     "data": {
      "text/plain": [
       "0"
      ]
     },
     "execution_count": 21,
     "metadata": {},
     "output_type": "execute_result"
    }
   ],
   "source": [
    "df['playlist_name'].isna().sum()"
   ]
  },
  {
   "cell_type": "code",
   "execution_count": 27,
   "id": "956e9922-e557-4d0c-9535-925fb188f7c6",
   "metadata": {},
   "outputs": [
    {
     "data": {
      "text/plain": [
       "419"
      ]
     },
     "execution_count": 27,
     "metadata": {},
     "output_type": "execute_result"
    }
   ],
   "source": [
    "len(residual)"
   ]
  },
  {
   "cell_type": "code",
   "execution_count": 35,
   "id": "a462810b-6131-4005-9599-d9fe699abb0e",
   "metadata": {},
   "outputs": [],
   "source": [
    "df_summaries = pd.read_csv('summaries.csv',index_col=['index'])"
   ]
  },
  {
   "cell_type": "code",
   "execution_count": 37,
   "id": "6224ec15-93c8-4a90-9744-872fa456da76",
   "metadata": {},
   "outputs": [
    {
     "data": {
      "text/plain": [
       "Index(['Unnamed: 0', 'Unnamed: 0.1', 'title', 'transcript', 'playlist_name',\n",
       "       'summary', 'time_taken'],\n",
       "      dtype='object')"
      ]
     },
     "execution_count": 37,
     "metadata": {},
     "output_type": "execute_result"
    }
   ],
   "source": [
    "df_summaries.columns"
   ]
  },
  {
   "cell_type": "code",
   "execution_count": 38,
   "id": "256b192c-2f4d-4d17-8cf7-a92a6a4caabf",
   "metadata": {},
   "outputs": [
    {
     "data": {
      "text/plain": [
       "4928"
      ]
     },
     "execution_count": 38,
     "metadata": {},
     "output_type": "execute_result"
    }
   ],
   "source": [
    "df_summaries.shape[0]"
   ]
  },
  {
   "cell_type": "code",
   "execution_count": 39,
   "id": "0fa48f2d-f9a1-4442-bece-2255556962a3",
   "metadata": {},
   "outputs": [
    {
     "data": {
      "text/plain": [
       "5001"
      ]
     },
     "execution_count": 39,
     "metadata": {},
     "output_type": "execute_result"
    }
   ],
   "source": [
    "df.shape[0]"
   ]
  },
  {
   "cell_type": "code",
   "execution_count": 40,
   "id": "edac44e6-c774-4336-bffc-f485ea31e627",
   "metadata": {},
   "outputs": [
    {
     "data": {
      "text/plain": [
       "5001"
      ]
     },
     "execution_count": 40,
     "metadata": {},
     "output_type": "execute_result"
    }
   ],
   "source": [
    "df_processed.shape[0]"
   ]
  },
  {
   "cell_type": "code",
   "execution_count": 41,
   "id": "b53710f8-02d6-4f0e-98a6-4f604ebd608b",
   "metadata": {},
   "outputs": [
    {
     "data": {
      "text/plain": [
       "73"
      ]
     },
     "execution_count": 41,
     "metadata": {},
     "output_type": "execute_result"
    }
   ],
   "source": [
    "5001-4928"
   ]
  },
  {
   "cell_type": "code",
   "execution_count": 45,
   "id": "e2e43a30-4296-4eb7-956c-c1d73deb231c",
   "metadata": {},
   "outputs": [
    {
     "data": {
      "text/plain": [
       "0"
      ]
     },
     "execution_count": 45,
     "metadata": {},
     "output_type": "execute_result"
    }
   ],
   "source": [
    "df['transcript'].isna().sum()"
   ]
  },
  {
   "cell_type": "code",
   "execution_count": 46,
   "id": "5f12ce2d-97be-4ba3-a70f-923888857e76",
   "metadata": {},
   "outputs": [
    {
     "data": {
      "text/plain": [
       "73"
      ]
     },
     "execution_count": 46,
     "metadata": {},
     "output_type": "execute_result"
    }
   ],
   "source": [
    "df_processed['transcript'].isna().sum()"
   ]
  },
  {
   "cell_type": "markdown",
   "id": "12bfb53b-e450-40a2-bdc6-d1e0c61cdcbb",
   "metadata": {},
   "source": [
    "# source data"
   ]
  },
  {
   "cell_type": "code",
   "execution_count": 47,
   "id": "19fa06cd-7672-417f-952f-6a93563b736d",
   "metadata": {},
   "outputs": [],
   "source": [
    "df_source = pd.read_csv('ppda_project_data/YouTube_transcripts_Kaggle.csv')"
   ]
  },
  {
   "cell_type": "code",
   "execution_count": 50,
   "id": "2509ced0-7ebb-44fd-8af4-8c8e6a829590",
   "metadata": {},
   "outputs": [
    {
     "data": {
      "text/plain": [
       "0"
      ]
     },
     "execution_count": 50,
     "metadata": {},
     "output_type": "execute_result"
    }
   ],
   "source": [
    "df_source['title'].isna().sum()"
   ]
  },
  {
   "cell_type": "code",
   "execution_count": 51,
   "id": "2a78cacd-89c6-41e0-b467-35452a9d3d1c",
   "metadata": {},
   "outputs": [
    {
     "data": {
      "text/plain": [
       "159"
      ]
     },
     "execution_count": 51,
     "metadata": {},
     "output_type": "execute_result"
    }
   ],
   "source": [
    "df_source['playlist_name'].nunique()"
   ]
  },
  {
   "cell_type": "code",
   "execution_count": 52,
   "id": "07af20b1-6a2a-4dc3-8442-692e2281d101",
   "metadata": {},
   "outputs": [
    {
     "data": {
      "text/plain": [
       "0"
      ]
     },
     "execution_count": 52,
     "metadata": {},
     "output_type": "execute_result"
    }
   ],
   "source": [
    "df_source['transcript'].isna().sum()"
   ]
  },
  {
   "cell_type": "code",
   "execution_count": 53,
   "id": "7f95d628-3418-4f19-b01e-89c889f02d0a",
   "metadata": {},
   "outputs": [
    {
     "data": {
      "text/plain": [
       "0"
      ]
     },
     "execution_count": 53,
     "metadata": {},
     "output_type": "execute_result"
    }
   ],
   "source": [
    "df_source['playlist_name'].isna().sum()"
   ]
  },
  {
   "cell_type": "code",
   "execution_count": 54,
   "id": "9ab88989-a513-48b5-9922-441e8c0b15fc",
   "metadata": {},
   "outputs": [
    {
     "data": {
      "text/plain": [
       "5000"
      ]
     },
     "execution_count": 54,
     "metadata": {},
     "output_type": "execute_result"
    }
   ],
   "source": [
    "df_source['transcript'].nunique()"
   ]
  },
  {
   "cell_type": "code",
   "execution_count": 55,
   "id": "51ed513b-2cbe-4978-bda9-5d22ca3a527d",
   "metadata": {},
   "outputs": [
    {
     "data": {
      "text/plain": [
       "5001"
      ]
     },
     "execution_count": 55,
     "metadata": {},
     "output_type": "execute_result"
    }
   ],
   "source": [
    "df_source.shape[0]"
   ]
  },
  {
   "cell_type": "code",
   "execution_count": 56,
   "id": "9c1223a2-ab87-43b9-bf27-e862f775332a",
   "metadata": {},
   "outputs": [
    {
     "data": {
      "text/plain": [
       "Index(['title', 'author', 'transcript', 'playlist_name'], dtype='object')"
      ]
     },
     "execution_count": 56,
     "metadata": {},
     "output_type": "execute_result"
    }
   ],
   "source": [
    "df_source.columns"
   ]
  },
  {
   "cell_type": "code",
   "execution_count": 57,
   "id": "755ea9b0-b90f-4216-a994-0bc9a7cf24ab",
   "metadata": {},
   "outputs": [],
   "source": []
  },
  {
   "cell_type": "markdown",
   "id": "53007ab1-1b6a-4433-a1db-f7c61417a5d1",
   "metadata": {},
   "source": [
    "# new preprocessed"
   ]
  },
  {
   "cell_type": "code",
   "execution_count": 2,
   "id": "ddb70bd8-7dfe-453a-ac63-6ad379577129",
   "metadata": {},
   "outputs": [],
   "source": [
    "df_new_pre = pd.read_csv('new_preprocessed.csv',index_col=[0])"
   ]
  },
  {
   "cell_type": "code",
   "execution_count": 3,
   "id": "5cbfa8b6-edc4-4b97-bbf4-7c7d319d5ee2",
   "metadata": {},
   "outputs": [
    {
     "data": {
      "text/plain": [
       "0"
      ]
     },
     "execution_count": 3,
     "metadata": {},
     "output_type": "execute_result"
    }
   ],
   "source": [
    "df_new_pre['transcript'].isna().sum()"
   ]
  },
  {
   "cell_type": "code",
   "execution_count": 3,
   "id": "7332d214-d6a4-4e1a-99f7-442949713990",
   "metadata": {},
   "outputs": [
    {
     "data": {
      "text/html": [
       "<div>\n",
       "<style scoped>\n",
       "    .dataframe tbody tr th:only-of-type {\n",
       "        vertical-align: middle;\n",
       "    }\n",
       "\n",
       "    .dataframe tbody tr th {\n",
       "        vertical-align: top;\n",
       "    }\n",
       "\n",
       "    .dataframe thead th {\n",
       "        text-align: right;\n",
       "    }\n",
       "</style>\n",
       "<table border=\"1\" class=\"dataframe\">\n",
       "  <thead>\n",
       "    <tr style=\"text-align: right;\">\n",
       "      <th></th>\n",
       "      <th>title</th>\n",
       "      <th>transcript</th>\n",
       "      <th>playlist_name</th>\n",
       "    </tr>\n",
       "  </thead>\n",
       "  <tbody>\n",
       "    <tr>\n",
       "      <th>0</th>\n",
       "      <td>Introduction to Vertex AI Feature Store</td>\n",
       "      <td>priyanka vergadia\\ndid you know that most of t...</td>\n",
       "      <td>AI and Machine Learning with Google Cloud</td>\n",
       "    </tr>\n",
       "    <tr>\n",
       "      <th>1</th>\n",
       "      <td>Illuminating the global fishing fleet through ...</td>\n",
       "      <td>speaker  oceanic\\necosystems are threatened by...</td>\n",
       "      <td>AI and Machine Learning with Google Cloud</td>\n",
       "    </tr>\n",
       "    <tr>\n",
       "      <th>2</th>\n",
       "      <td>Hyperparameter Tuning on Vertex AI</td>\n",
       "      <td>priyanka vergadia hi im priyanka vergadia and ...</td>\n",
       "      <td>AI and Machine Learning with Google Cloud</td>\n",
       "    </tr>\n",
       "    <tr>\n",
       "      <th>3</th>\n",
       "      <td>End-to-end MLOps with Vertex AI</td>\n",
       "      <td>priyanka vergadia one of the\\nbiggest challeng...</td>\n",
       "      <td>AI and Machine Learning with Google Cloud</td>\n",
       "    </tr>\n",
       "    <tr>\n",
       "      <th>4</th>\n",
       "      <td>Transformers, explained: Understand the model ...</td>\n",
       "      <td>music playing dale markowitz the\\nneat thing a...</td>\n",
       "      <td>AI and Machine Learning with Google Cloud</td>\n",
       "    </tr>\n",
       "    <tr>\n",
       "      <th>...</th>\n",
       "      <td>...</td>\n",
       "      <td>...</td>\n",
       "      <td>...</td>\n",
       "    </tr>\n",
       "    <tr>\n",
       "      <th>4996</th>\n",
       "      <td>12.2: Color Vectors - Programming with Text</td>\n",
       "      <td>bell dinging  hello part two i think im on par...</td>\n",
       "      <td>Session 12: word2vec - Programming with Text</td>\n",
       "    </tr>\n",
       "    <tr>\n",
       "      <th>4997</th>\n",
       "      <td>12.3: Color Vectors cont&amp;#39;d - Programming w...</td>\n",
       "      <td>bell dings  hello and welcome to\\nwordvec tuto...</td>\n",
       "      <td>Session 12: word2vec - Programming with Text</td>\n",
       "    </tr>\n",
       "    <tr>\n",
       "      <th>4998</th>\n",
       "      <td>Illustrated Guide to Transformers Neural Netwo...</td>\n",
       "      <td>transformers are taking the natural language p...</td>\n",
       "      <td>Illustrated Guide to Deep Learning</td>\n",
       "    </tr>\n",
       "    <tr>\n",
       "      <th>4999</th>\n",
       "      <td>Illustrated Guide to LSTM&amp;#39;s and GRU&amp;#39;s:...</td>\n",
       "      <td>hi and welcome to an illustrated guide to lst ...</td>\n",
       "      <td>Illustrated Guide to Deep Learning</td>\n",
       "    </tr>\n",
       "    <tr>\n",
       "      <th>5000</th>\n",
       "      <td>Illustrated Guide to Recurrent Neural Networks...</td>\n",
       "      <td>hi and welcome to an illustrated guide to recu...</td>\n",
       "      <td>Illustrated Guide to Deep Learning</td>\n",
       "    </tr>\n",
       "  </tbody>\n",
       "</table>\n",
       "<p>5001 rows × 3 columns</p>\n",
       "</div>"
      ],
      "text/plain": [
       "                                                  title  \\\n",
       "0               Introduction to Vertex AI Feature Store   \n",
       "1     Illuminating the global fishing fleet through ...   \n",
       "2                    Hyperparameter Tuning on Vertex AI   \n",
       "3                       End-to-end MLOps with Vertex AI   \n",
       "4     Transformers, explained: Understand the model ...   \n",
       "...                                                 ...   \n",
       "4996        12.2: Color Vectors - Programming with Text   \n",
       "4997  12.3: Color Vectors cont&#39;d - Programming w...   \n",
       "4998  Illustrated Guide to Transformers Neural Netwo...   \n",
       "4999  Illustrated Guide to LSTM&#39;s and GRU&#39;s:...   \n",
       "5000  Illustrated Guide to Recurrent Neural Networks...   \n",
       "\n",
       "                                             transcript  \\\n",
       "0     priyanka vergadia\\ndid you know that most of t...   \n",
       "1     speaker  oceanic\\necosystems are threatened by...   \n",
       "2     priyanka vergadia hi im priyanka vergadia and ...   \n",
       "3     priyanka vergadia one of the\\nbiggest challeng...   \n",
       "4     music playing dale markowitz the\\nneat thing a...   \n",
       "...                                                 ...   \n",
       "4996  bell dinging  hello part two i think im on par...   \n",
       "4997  bell dings  hello and welcome to\\nwordvec tuto...   \n",
       "4998  transformers are taking the natural language p...   \n",
       "4999  hi and welcome to an illustrated guide to lst ...   \n",
       "5000  hi and welcome to an illustrated guide to recu...   \n",
       "\n",
       "                                     playlist_name  \n",
       "0        AI and Machine Learning with Google Cloud  \n",
       "1        AI and Machine Learning with Google Cloud  \n",
       "2        AI and Machine Learning with Google Cloud  \n",
       "3        AI and Machine Learning with Google Cloud  \n",
       "4        AI and Machine Learning with Google Cloud  \n",
       "...                                            ...  \n",
       "4996  Session 12: word2vec - Programming with Text  \n",
       "4997  Session 12: word2vec - Programming with Text  \n",
       "4998            Illustrated Guide to Deep Learning  \n",
       "4999            Illustrated Guide to Deep Learning  \n",
       "5000            Illustrated Guide to Deep Learning  \n",
       "\n",
       "[5001 rows x 3 columns]"
      ]
     },
     "execution_count": 3,
     "metadata": {},
     "output_type": "execute_result"
    }
   ],
   "source": [
    "df_new_pre"
   ]
  },
  {
   "cell_type": "code",
   "execution_count": 4,
   "id": "b27fb1c7-f617-4103-9eb3-a412d436ceff",
   "metadata": {},
   "outputs": [
    {
     "data": {
      "text/plain": [
       "159"
      ]
     },
     "execution_count": 4,
     "metadata": {},
     "output_type": "execute_result"
    }
   ],
   "source": [
    "df_new_pre['playlist_name'].nunique()"
   ]
  },
  {
   "cell_type": "code",
   "execution_count": 5,
   "id": "8c743a06-7e5a-4b04-97b2-5c61dedc73f2",
   "metadata": {},
   "outputs": [
    {
     "data": {
      "text/plain": [
       "0"
      ]
     },
     "execution_count": 5,
     "metadata": {},
     "output_type": "execute_result"
    }
   ],
   "source": [
    "df_new_pre['playlist_name'].isna().sum()"
   ]
  },
  {
   "cell_type": "code",
   "execution_count": 6,
   "id": "6daa8426-f3d0-4378-9364-8b3d417b0070",
   "metadata": {},
   "outputs": [
    {
     "data": {
      "text/plain": [
       "0"
      ]
     },
     "execution_count": 6,
     "metadata": {},
     "output_type": "execute_result"
    }
   ],
   "source": [
    "df_new_pre['title'].isna().sum()"
   ]
  },
  {
   "cell_type": "code",
   "execution_count": 7,
   "id": "005232af-0f7c-4998-b673-bd9bf3049fb3",
   "metadata": {},
   "outputs": [],
   "source": [
    "df_new_pre = df_new_pre[df_new_pre['transcript'].notna()]"
   ]
  },
  {
   "cell_type": "markdown",
   "id": "c92b1a1b-b3a9-4f6a-acd6-9ed2186a95d7",
   "metadata": {},
   "source": [
    "# stats on data"
   ]
  },
  {
   "cell_type": "markdown",
   "id": "50fbd18a-4a18-4199-bd92-7c2d89284efb",
   "metadata": {},
   "source": [
    "## stats on number of words in transcript\n",
    "\n"
   ]
  },
  {
   "cell_type": "code",
   "execution_count": 8,
   "id": "1c936c65-0e9f-4efe-af83-58e2fc99a9f7",
   "metadata": {},
   "outputs": [],
   "source": [
    "df_new_pre['nuOfWords'] = df_new_pre['transcript'].apply(lambda x: len(x.split()))"
   ]
  },
  {
   "cell_type": "code",
   "execution_count": 9,
   "id": "3629d054-f43f-4186-b39f-a235dbadce19",
   "metadata": {},
   "outputs": [
    {
     "data": {
      "text/plain": [
       "998"
      ]
     },
     "execution_count": 9,
     "metadata": {},
     "output_type": "execute_result"
    }
   ],
   "source": [
    "len(df_new_pre['transcript'][0].split())"
   ]
  },
  {
   "cell_type": "code",
   "execution_count": 10,
   "id": "19689a1f-8543-4d27-86df-228ee1d05c1c",
   "metadata": {},
   "outputs": [
    {
     "data": {
      "text/plain": [
       "4569.4043191361725"
      ]
     },
     "execution_count": 10,
     "metadata": {},
     "output_type": "execute_result"
    }
   ],
   "source": [
    "df_new_pre['nuOfWords'].mean()"
   ]
  },
  {
   "cell_type": "code",
   "execution_count": 11,
   "id": "fe6f5082-246a-4f6f-b597-7a8697d1620f",
   "metadata": {},
   "outputs": [
    {
     "data": {
      "text/plain": [
       "101870"
      ]
     },
     "execution_count": 11,
     "metadata": {},
     "output_type": "execute_result"
    }
   ],
   "source": [
    "df_new_pre['nuOfWords'].max()"
   ]
  },
  {
   "cell_type": "code",
   "execution_count": 12,
   "id": "caf7930a-ba81-4c8c-979a-5364e08fa989",
   "metadata": {},
   "outputs": [
    {
     "data": {
      "text/plain": [
       "3"
      ]
     },
     "execution_count": 12,
     "metadata": {},
     "output_type": "execute_result"
    }
   ],
   "source": [
    "df_new_pre['nuOfWords'].min()"
   ]
  },
  {
   "cell_type": "code",
   "execution_count": 13,
   "id": "693bb98e-0517-47c0-8d6a-264799f854ec",
   "metadata": {},
   "outputs": [
    {
     "data": {
      "text/plain": [
       "6596.365117676051"
      ]
     },
     "execution_count": 13,
     "metadata": {},
     "output_type": "execute_result"
    }
   ],
   "source": [
    "df_new_pre['nuOfWords'].std()"
   ]
  },
  {
   "cell_type": "code",
   "execution_count": 14,
   "id": "b71eeed4-19a5-48bd-8fc4-061cfcd8f7b4",
   "metadata": {},
   "outputs": [],
   "source": [
    "word_count_list = -np.sort(-df_new_pre['nuOfWords'].values)"
   ]
  },
  {
   "cell_type": "code",
   "execution_count": 17,
   "id": "1b07e3d3-cc41-4e9c-adaf-cd5cfe7cc49f",
   "metadata": {},
   "outputs": [
    {
     "data": {
      "text/plain": [
       "array([101870, 101539,  85257, ...,      5,      4,      3])"
      ]
     },
     "execution_count": 17,
     "metadata": {},
     "output_type": "execute_result"
    }
   ],
   "source": [
    "index_array = list(range())"
   ]
  },
  {
   "cell_type": "code",
   "execution_count": 20,
   "id": "439541c6-6469-4c82-b40b-7c56bf08f847",
   "metadata": {},
   "outputs": [
    {
     "data": {
      "image/png": "[encoded data removed]",
      "text/plain": [
       "<Figure size 800x800 with 1 Axes>"
      ]
     },
     "metadata": {
      "needs_background": "light"
     },
     "output_type": "display_data"
    }
   ],
   "source": [
    "figure(figsize=(10, 10), dpi=80)\n",
    "plt.scatter(range(word_count_list.shape[0]), word_count_list,color='blue',marker='o')\n",
    "#plt.xlabel('')\n",
    "plt.ylabel('Number of words')\n",
    "plt.title('Distribution of the number of words in the transcripts')\n",
    "plt.show()"
   ]
  },
  {
   "cell_type": "code",
   "execution_count": 70,
   "id": "79bf350f-2d82-4053-b6f9-a450a2dcb34e",
   "metadata": {},
   "outputs": [
    {
     "data": {
      "image/png": "[encoded data removed]",
      "text/plain": [
       "<Figure size 800x800 with 1 Axes>"
      ]
     },
     "metadata": {
      "needs_background": "light"
     },
     "output_type": "display_data"
    }
   ],
   "source": [
    "figure(figsize=(10, 10), dpi=80)\n",
    "plt.plot(-np.sort(-df_new_pre['nuOfWords'].values))\n",
    "plt.title('Distribution of the number of words in the transcripts')\n",
    "plt.xlabel('Count')\n",
    "plt.ylabel('Number of words')\n",
    "plt.show()"
   ]
  },
  {
   "cell_type": "markdown",
   "id": "9c21a52b-5ce7-48aa-896f-527b0dc606c2",
   "metadata": {},
   "source": [
    "## stats on number of playlist names - class division"
   ]
  },
  {
   "cell_type": "code",
   "execution_count": 21,
   "id": "53f91993-f032-4dd9-a25d-394d2fdee83b",
   "metadata": {},
   "outputs": [
    {
     "data": {
      "text/plain": [
       "159"
      ]
     },
     "execution_count": 21,
     "metadata": {},
     "output_type": "execute_result"
    }
   ],
   "source": [
    "df_new_pre['playlist_name'].nunique()"
   ]
  },
  {
   "cell_type": "code",
   "execution_count": 22,
   "id": "88a22e49-539a-4f79-b790-abbd32780eea",
   "metadata": {},
   "outputs": [],
   "source": [
    "playlist_stats = df_new_pre['playlist_name'].value_counts()"
   ]
  },
  {
   "cell_type": "code",
   "execution_count": 23,
   "id": "8685743c-2824-4294-9b09-7aa10ffa5c12",
   "metadata": {},
   "outputs": [
    {
     "name": "stdout",
     "output_type": "stream",
     "text": [
      "563\n"
     ]
    }
   ],
   "source": [
    "count=0\n",
    "for i in playlist_stats:\n",
    "    if(count>0):\n",
    "        break\n",
    "    print(i)\n",
    "    count+=1"
   ]
  },
  {
   "cell_type": "code",
   "execution_count": 23,
   "id": "734f788f-2199-49ff-ad7a-efd9a54c52e9",
   "metadata": {},
   "outputs": [
    {
     "data": {
      "text/plain": [
       "Two Minute Papers                                           563\n",
       "Intro to Machine Learning                                   361\n",
       "Lex Fridman Podcast                                         232\n",
       "AI and Machine Learning with Google Cloud                   132\n",
       "Papers Explained                                            127\n",
       "                                                           ... \n",
       "Artificial Intelligence Use Cases                             1\n",
       "Advanced NLP                                                  1\n",
       "BERT models                                                   1\n",
       "Data Science Simplified                                       1\n",
       "Introduction to Reinforcement learning with David Silver      1\n",
       "Name: playlist_name, Length: 159, dtype: int64"
      ]
     },
     "execution_count": 23,
     "metadata": {},
     "output_type": "execute_result"
    }
   ],
   "source": [
    "playlist_stats"
   ]
  },
  {
   "cell_type": "code",
   "execution_count": 24,
   "id": "7b782e2a-f4ef-460d-9da8-bd53b44efec8",
   "metadata": {},
   "outputs": [
    {
     "data": {
      "image/png": "[encoded data removed]",
      "text/plain": [
       "<Figure size 800x800 with 1 Axes>"
      ]
     },
     "metadata": {
      "needs_background": "light"
     },
     "output_type": "display_data"
    }
   ],
   "source": [
    "figure(figsize=(10, 10), dpi=80)\n",
    "plt.scatter(range(playlist_stats.values.shape[0]), playlist_stats.values,color='red',marker='o')\n",
    "#plt.xlabel('')\n",
    "plt.ylabel('Number of videos in the playlist')\n",
    "plt.title('Distribution of playlist sizes')\n",
    "plt.show()"
   ]
  },
  {
   "cell_type": "code",
   "execution_count": 28,
   "id": "40ca9f84-48b4-4e74-8d11-4e11cc423c21",
   "metadata": {},
   "outputs": [
    {
     "data": {
      "image/png": "[encoded data removed]",
      "text/plain": [
       "<Figure size 800x800 with 1 Axes>"
      ]
     },
     "metadata": {
      "needs_background": "light"
     },
     "output_type": "display_data"
    }
   ],
   "source": [
    "figure(figsize=(10, 10), dpi=80)\n",
    "plt.plot(playlist_stats.values)\n",
    "plt.xlabel('Playlist index')\n",
    "plt.ylabel('Number of videos in playlist')\n",
    "plt.title('Distribution of playlist sizes')\n",
    "plt.show()"
   ]
  },
  {
   "cell_type": "markdown",
   "id": "0e4202d7-4edf-4884-abf1-e4450f3129c7",
   "metadata": {},
   "source": [
    "## stats on number of tokens for the dataset"
   ]
  },
  {
   "cell_type": "code",
   "execution_count": 25,
   "id": "d1fc1c91-efc5-4249-bc12-0f0c662a57d2",
   "metadata": {},
   "outputs": [],
   "source": [
    "from transformers import T5Tokenizer, T5Model,T5ForConditionalGeneration, pipeline"
   ]
  },
  {
   "cell_type": "code",
   "execution_count": 26,
   "id": "a448f18e-1606-47b1-8388-272cc1265a0c",
   "metadata": {},
   "outputs": [
    {
     "name": "stderr",
     "output_type": "stream",
     "text": [
      "/home/joshi.at/.conda/envs/ath_pytorch/lib/python3.7/site-packages/transformers/models/t5/tokenization_t5.py:173: FutureWarning: This tokenizer was incorrectly instantiated with a model max length of 512 which will be corrected in Transformers v5.\n",
      "For now, this behavior is kept to avoid breaking backwards compatibility when padding/encoding with `truncation is True`.\n",
      "- Be aware that you SHOULD NOT rely on t5-base automatically truncating your input to 512 when padding/encoding.\n",
      "- If you want to encode/pad to sequences longer than 512 you can either instantiate this tokenizer with `model_max_length` or pass `max_length` when encoding/padding.\n",
      "- To avoid this warning, please instantiate this tokenizer with `model_max_length` set to your preferred value.\n",
      "  FutureWarning,\n"
     ]
    }
   ],
   "source": [
    "tokenizer = T5Tokenizer.from_pretrained('t5-base')"
   ]
  },
  {
   "cell_type": "code",
   "execution_count": 27,
   "id": "829585c6-9269-4139-95bc-c6a4f7585c40",
   "metadata": {},
   "outputs": [],
   "source": [
    "def count_summary_token(transcript):\n",
    "    full_tokenize = tokenizer(transcript).input_ids\n",
    "    length_sample = len(full_tokenize)\n",
    "    return length_sample"
   ]
  },
  {
   "cell_type": "code",
   "execution_count": 28,
   "id": "1c7f962a-afa7-4bd2-a77f-13318ddefe6a",
   "metadata": {},
   "outputs": [
    {
     "name": "stderr",
     "output_type": "stream",
     "text": [
      "Token indices sequence length is longer than the specified maximum sequence length for this model (1147 > 512). Running this sequence through the model will result in indexing errors\n"
     ]
    }
   ],
   "source": [
    "df_new_pre['token_length'] = df_new_pre['transcript'].apply(lambda x:count_summary_token(x))"
   ]
  },
  {
   "cell_type": "code",
   "execution_count": 53,
   "id": "48a06be8-1614-483f-a90a-b5e2b0351d82",
   "metadata": {},
   "outputs": [
    {
     "data": {
      "text/plain": [
       "array([1147, 1523, 1915, ..., 2777, 2325, 2041])"
      ]
     },
     "execution_count": 53,
     "metadata": {},
     "output_type": "execute_result"
    }
   ],
   "source": [
    "df_new_pre['token_length'].values"
   ]
  },
  {
   "cell_type": "code",
   "execution_count": 29,
   "id": "1ef5b0c6-9735-487a-aea2-f6577d2d46a0",
   "metadata": {},
   "outputs": [
    {
     "data": {
      "image/png": "[encoded data removed]",
      "text/plain": [
       "<Figure size 800x800 with 1 Axes>"
      ]
     },
     "metadata": {
      "needs_background": "light"
     },
     "output_type": "display_data"
    }
   ],
   "source": [
    "figure(figsize=(10, 10), dpi=80)\n",
    "plt.scatter(range(df_new_pre['token_length'].shape[0]), -np.sort(-df_new_pre['token_length'].values),color='red',marker='o')\n",
    "#plt.xlabel('')\n",
    "plt.ylabel('Number of tokens in the transcript')\n",
    "plt.title('Distribution of the number of tokens in the transcripts')\n",
    "plt.show()"
   ]
  },
  {
   "cell_type": "code",
   "execution_count": 58,
   "id": "457bfb8b-fd94-4c83-a6d9-88973f780fab",
   "metadata": {},
   "outputs": [
    {
     "data": {
      "image/png": "[encoded data removed]",
      "text/plain": [
       "<Figure size 800x800 with 1 Axes>"
      ]
     },
     "metadata": {
      "needs_background": "light"
     },
     "output_type": "display_data"
    }
   ],
   "source": [
    "figure(figsize=(10, 10), dpi=80)\n",
    "plt.plot(-np.sort(-df_new_pre['token_length'].values))\n",
    "plt.xlabel('Video index')\n",
    "plt.ylabel('Number of tokens in transcript')\n",
    "plt.title('Distribution of transcript sizes')\n",
    "plt.show()"
   ]
  },
  {
   "cell_type": "code",
   "execution_count": null,
   "id": "91ce970b-ee01-4f6d-949e-a6711466cb29",
   "metadata": {},
   "outputs": [],
   "source": [
    "figure(figsize=(10, 10), dpi=80)\n",
    "plt.plot(df_new_pre['token_length'].values)\n",
    "plt.xlabel('Playlist index')\n",
    "plt.ylabel('Number of tokens in transcript')\n",
    "plt.title('Distribution of transcript sizes')\n",
    "plt.show()"
   ]
  },
  {
   "cell_type": "code",
   "execution_count": 45,
   "id": "eaf32138-5e8b-486d-923b-6453df3a2047",
   "metadata": {},
   "outputs": [
    {
     "ename": "TypeError",
     "evalue": "'reversed' is an invalid keyword argument for sort()",
     "output_type": "error",
     "traceback": [
      "\u001b[0;31m---------------------------------------------------------------------------\u001b[0m",
      "\u001b[0;31mTypeError\u001b[0m                                 Traceback (most recent call last)",
      "\u001b[0;32m<ipython-input-45-b839251baec0>\u001b[0m in \u001b[0;36m<module>\u001b[0;34m\u001b[0m\n\u001b[0;32m----> 1\u001b[0;31m \u001b[0mdf_new_pre\u001b[0m\u001b[0;34m[\u001b[0m\u001b[0;34m'token_length'\u001b[0m\u001b[0;34m]\u001b[0m\u001b[0;34m.\u001b[0m\u001b[0mvalues\u001b[0m\u001b[0;34m.\u001b[0m\u001b[0msort\u001b[0m\u001b[0;34m(\u001b[0m\u001b[0mreversed\u001b[0m\u001b[0;34m=\u001b[0m\u001b[0;32mTrue\u001b[0m\u001b[0;34m)\u001b[0m\u001b[0;34m\u001b[0m\u001b[0;34m\u001b[0m\u001b[0m\n\u001b[0m",
      "\u001b[0;31mTypeError\u001b[0m: 'reversed' is an invalid keyword argument for sort()"
     ]
    }
   ],
   "source": [
    "df_new_pre['token_length'].values.sort()"
   ]
  },
  {
   "cell_type": "code",
   "execution_count": 42,
   "id": "7f5ee4ea-f574-4236-8623-a774c7bc3ba2",
   "metadata": {},
   "outputs": [
    {
     "data": {
      "text/html": [
       "<div>\n",
       "<style scoped>\n",
       "    .dataframe tbody tr th:only-of-type {\n",
       "        vertical-align: middle;\n",
       "    }\n",
       "\n",
       "    .dataframe tbody tr th {\n",
       "        vertical-align: top;\n",
       "    }\n",
       "\n",
       "    .dataframe thead th {\n",
       "        text-align: right;\n",
       "    }\n",
       "</style>\n",
       "<table border=\"1\" class=\"dataframe\">\n",
       "  <thead>\n",
       "    <tr style=\"text-align: right;\">\n",
       "      <th></th>\n",
       "      <th>title</th>\n",
       "      <th>transcript</th>\n",
       "      <th>playlist_name</th>\n",
       "      <th>token_length</th>\n",
       "    </tr>\n",
       "  </thead>\n",
       "  <tbody>\n",
       "    <tr>\n",
       "      <th>0</th>\n",
       "      <td>Introduction to Vertex AI Feature Store</td>\n",
       "      <td>priyanka vergadia\\ndid you know that most of t...</td>\n",
       "      <td>AI and Machine Learning with Google Cloud</td>\n",
       "      <td>4</td>\n",
       "    </tr>\n",
       "    <tr>\n",
       "      <th>1</th>\n",
       "      <td>Illuminating the global fishing fleet through ...</td>\n",
       "      <td>speaker  oceanic\\necosystems are threatened by...</td>\n",
       "      <td>AI and Machine Learning with Google Cloud</td>\n",
       "      <td>6</td>\n",
       "    </tr>\n",
       "    <tr>\n",
       "      <th>2</th>\n",
       "      <td>Hyperparameter Tuning on Vertex AI</td>\n",
       "      <td>priyanka vergadia hi im priyanka vergadia and ...</td>\n",
       "      <td>AI and Machine Learning with Google Cloud</td>\n",
       "      <td>7</td>\n",
       "    </tr>\n",
       "    <tr>\n",
       "      <th>3</th>\n",
       "      <td>End-to-end MLOps with Vertex AI</td>\n",
       "      <td>priyanka vergadia one of the\\nbiggest challeng...</td>\n",
       "      <td>AI and Machine Learning with Google Cloud</td>\n",
       "      <td>11</td>\n",
       "    </tr>\n",
       "    <tr>\n",
       "      <th>4</th>\n",
       "      <td>Transformers, explained: Understand the model ...</td>\n",
       "      <td>music playing dale markowitz the\\nneat thing a...</td>\n",
       "      <td>AI and Machine Learning with Google Cloud</td>\n",
       "      <td>12</td>\n",
       "    </tr>\n",
       "    <tr>\n",
       "      <th>...</th>\n",
       "      <td>...</td>\n",
       "      <td>...</td>\n",
       "      <td>...</td>\n",
       "      <td>...</td>\n",
       "    </tr>\n",
       "    <tr>\n",
       "      <th>4996</th>\n",
       "      <td>12.2: Color Vectors - Programming with Text</td>\n",
       "      <td>bell dinging  hello part two i think im on par...</td>\n",
       "      <td>Session 12: word2vec - Programming with Text</td>\n",
       "      <td>81339</td>\n",
       "    </tr>\n",
       "    <tr>\n",
       "      <th>4997</th>\n",
       "      <td>12.3: Color Vectors cont&amp;#39;d - Programming w...</td>\n",
       "      <td>bell dings  hello and welcome to\\nwordvec tuto...</td>\n",
       "      <td>Session 12: word2vec - Programming with Text</td>\n",
       "      <td>93890</td>\n",
       "    </tr>\n",
       "    <tr>\n",
       "      <th>4998</th>\n",
       "      <td>Illustrated Guide to Transformers Neural Netwo...</td>\n",
       "      <td>transformers are taking the natural language p...</td>\n",
       "      <td>Illustrated Guide to Deep Learning</td>\n",
       "      <td>96659</td>\n",
       "    </tr>\n",
       "    <tr>\n",
       "      <th>4999</th>\n",
       "      <td>Illustrated Guide to LSTM&amp;#39;s and GRU&amp;#39;s:...</td>\n",
       "      <td>hi and welcome to an illustrated guide to lst ...</td>\n",
       "      <td>Illustrated Guide to Deep Learning</td>\n",
       "      <td>115638</td>\n",
       "    </tr>\n",
       "    <tr>\n",
       "      <th>5000</th>\n",
       "      <td>Illustrated Guide to Recurrent Neural Networks...</td>\n",
       "      <td>hi and welcome to an illustrated guide to recu...</td>\n",
       "      <td>Illustrated Guide to Deep Learning</td>\n",
       "      <td>116392</td>\n",
       "    </tr>\n",
       "  </tbody>\n",
       "</table>\n",
       "<p>5001 rows × 4 columns</p>\n",
       "</div>"
      ],
      "text/plain": [
       "                                                  title  \\\n",
       "0               Introduction to Vertex AI Feature Store   \n",
       "1     Illuminating the global fishing fleet through ...   \n",
       "2                    Hyperparameter Tuning on Vertex AI   \n",
       "3                       End-to-end MLOps with Vertex AI   \n",
       "4     Transformers, explained: Understand the model ...   \n",
       "...                                                 ...   \n",
       "4996        12.2: Color Vectors - Programming with Text   \n",
       "4997  12.3: Color Vectors cont&#39;d - Programming w...   \n",
       "4998  Illustrated Guide to Transformers Neural Netwo...   \n",
       "4999  Illustrated Guide to LSTM&#39;s and GRU&#39;s:...   \n",
       "5000  Illustrated Guide to Recurrent Neural Networks...   \n",
       "\n",
       "                                             transcript  \\\n",
       "0     priyanka vergadia\\ndid you know that most of t...   \n",
       "1     speaker  oceanic\\necosystems are threatened by...   \n",
       "2     priyanka vergadia hi im priyanka vergadia and ...   \n",
       "3     priyanka vergadia one of the\\nbiggest challeng...   \n",
       "4     music playing dale markowitz the\\nneat thing a...   \n",
       "...                                                 ...   \n",
       "4996  bell dinging  hello part two i think im on par...   \n",
       "4997  bell dings  hello and welcome to\\nwordvec tuto...   \n",
       "4998  transformers are taking the natural language p...   \n",
       "4999  hi and welcome to an illustrated guide to lst ...   \n",
       "5000  hi and welcome to an illustrated guide to recu...   \n",
       "\n",
       "                                     playlist_name  token_length  \n",
       "0        AI and Machine Learning with Google Cloud             4  \n",
       "1        AI and Machine Learning with Google Cloud             6  \n",
       "2        AI and Machine Learning with Google Cloud             7  \n",
       "3        AI and Machine Learning with Google Cloud            11  \n",
       "4        AI and Machine Learning with Google Cloud            12  \n",
       "...                                            ...           ...  \n",
       "4996  Session 12: word2vec - Programming with Text         81339  \n",
       "4997  Session 12: word2vec - Programming with Text         93890  \n",
       "4998            Illustrated Guide to Deep Learning         96659  \n",
       "4999            Illustrated Guide to Deep Learning        115638  \n",
       "5000            Illustrated Guide to Deep Learning        116392  \n",
       "\n",
       "[5001 rows x 4 columns]"
      ]
     },
     "execution_count": 42,
     "metadata": {},
     "output_type": "execute_result"
    }
   ],
   "source": [
    "np.sort(temp)[::-1]"
   ]
  },
  {
   "cell_type": "markdown",
   "id": "b327561b-b0f4-4d27-af07-a56174a0bb11",
   "metadata": {},
   "source": [
    "## get sumary and transcript samples"
   ]
  },
  {
   "cell_type": "code",
   "execution_count": 6,
   "id": "c3432502-cdeb-4b08-a861-381ada417fb0",
   "metadata": {},
   "outputs": [],
   "source": [
    "summaries = pd.read_csv('summaries.csv',index_col=[0])"
   ]
  },
  {
   "cell_type": "code",
   "execution_count": 12,
   "id": "15b43f80-76d1-49a0-a73e-afa974157340",
   "metadata": {},
   "outputs": [
    {
     "data": {
      "text/plain": [
       "Index(['Unnamed: 0.1', 'index', 'title', 'transcript', 'playlist_name',\n",
       "       'summary', 'time_taken'],\n",
       "      dtype='object')"
      ]
     },
     "execution_count": 12,
     "metadata": {},
     "output_type": "execute_result"
    }
   ],
   "source": [
    "summaries.columns"
   ]
  },
  {
   "cell_type": "code",
   "execution_count": 13,
   "id": "bdf6c86e-a61f-4493-9328-d193086ed412",
   "metadata": {},
   "outputs": [],
   "source": [
    "summaries.drop(['Unnamed: 0.1'],axis=1,inplace=True)"
   ]
  },
  {
   "cell_type": "code",
   "execution_count": 15,
   "id": "1dc91aa2-9321-465a-9065-255d8b90938f",
   "metadata": {},
   "outputs": [
    {
     "data": {
      "text/plain": [
       "(4928, 6)"
      ]
     },
     "execution_count": 15,
     "metadata": {},
     "output_type": "execute_result"
    }
   ],
   "source": [
    "summaries.shape"
   ]
  },
  {
   "cell_type": "code",
   "execution_count": 16,
   "id": "07fb388e-462e-4753-bbd4-fae21ec86a84",
   "metadata": {},
   "outputs": [
    {
     "data": {
      "text/plain": [
       "Index(['index', 'title', 'transcript', 'playlist_name', 'summary',\n",
       "       'time_taken'],\n",
       "      dtype='object')"
      ]
     },
     "execution_count": 16,
     "metadata": {},
     "output_type": "execute_result"
    }
   ],
   "source": [
    "summaries.columns"
   ]
  },
  {
   "cell_type": "code",
   "execution_count": 22,
   "id": "4074ea4e-bf87-4e1d-9633-6c50b7a1178a",
   "metadata": {},
   "outputs": [
    {
     "data": {
      "text/html": [
       "<div>\n",
       "<style scoped>\n",
       "    .dataframe tbody tr th:only-of-type {\n",
       "        vertical-align: middle;\n",
       "    }\n",
       "\n",
       "    .dataframe tbody tr th {\n",
       "        vertical-align: top;\n",
       "    }\n",
       "\n",
       "    .dataframe thead th {\n",
       "        text-align: right;\n",
       "    }\n",
       "</style>\n",
       "<table border=\"1\" class=\"dataframe\">\n",
       "  <thead>\n",
       "    <tr style=\"text-align: right;\">\n",
       "      <th></th>\n",
       "      <th>index</th>\n",
       "      <th>title</th>\n",
       "      <th>transcript</th>\n",
       "      <th>playlist_name</th>\n",
       "      <th>summary</th>\n",
       "      <th>time_taken</th>\n",
       "    </tr>\n",
       "  </thead>\n",
       "  <tbody>\n",
       "    <tr>\n",
       "      <th>0</th>\n",
       "      <td>0</td>\n",
       "      <td>introduction to vertex ai feature store</td>\n",
       "      <td>priyanka vergadia did you know that most of th...</td>\n",
       "      <td>ai and machine learning with google cloud</td>\n",
       "      <td>vertex feature store is a fully managed and un...</td>\n",
       "      <td>3.245396</td>\n",
       "    </tr>\n",
       "    <tr>\n",
       "      <th>1</th>\n",
       "      <td>1</td>\n",
       "      <td>illuminating the global fishing fleet through ...</td>\n",
       "      <td>speaker  oceanic ecosystems are threatened by ...</td>\n",
       "      <td>ai and machine learning with google cloud</td>\n",
       "      <td>brian sullivan is a cofounder of global fishin...</td>\n",
       "      <td>1.126510</td>\n",
       "    </tr>\n",
       "    <tr>\n",
       "      <th>2</th>\n",
       "      <td>2</td>\n",
       "      <td>hyperparameter tuning on vertex ai</td>\n",
       "      <td>priyanka vergadia hi im priyanka vergadia and ...</td>\n",
       "      <td>ai and machine learning with google cloud</td>\n",
       "      <td>priyanka vergadia shows you how to set up a hy...</td>\n",
       "      <td>1.657480</td>\n",
       "    </tr>\n",
       "    <tr>\n",
       "      <th>3</th>\n",
       "      <td>3</td>\n",
       "      <td>endtoend mlops with vertex ai</td>\n",
       "      <td>priyanka vergadia one of the biggest challenge...</td>\n",
       "      <td>ai and machine learning with google cloud</td>\n",
       "      <td>one of the biggest challenges in machine learn...</td>\n",
       "      <td>1.292592</td>\n",
       "    </tr>\n",
       "    <tr>\n",
       "      <th>4</th>\n",
       "      <td>4</td>\n",
       "      <td>transformers explained understand the model be...</td>\n",
       "      <td>so if you remember anything about transformers...</td>\n",
       "      <td>the original transformer was designed for tran...</td>\n",
       "      <td>the paper combines a model that scales really ...</td>\n",
       "      <td>1.222763</td>\n",
       "    </tr>\n",
       "    <tr>\n",
       "      <th>...</th>\n",
       "      <td>...</td>\n",
       "      <td>...</td>\n",
       "      <td>...</td>\n",
       "      <td>...</td>\n",
       "      <td>...</td>\n",
       "      <td>...</td>\n",
       "    </tr>\n",
       "    <tr>\n",
       "      <th>2423</th>\n",
       "      <td>4996</td>\n",
       "      <td>color vectors  programming with text</td>\n",
       "      <td>bell dinging  hello part two i think im on par...</td>\n",
       "      <td>session  wordvec  programming with text</td>\n",
       "      <td>allison parrish has released a video tutorial ...</td>\n",
       "      <td>1.201207</td>\n",
       "    </tr>\n",
       "    <tr>\n",
       "      <th>2424</th>\n",
       "      <td>4997</td>\n",
       "      <td>color vectors contd  programming with text</td>\n",
       "      <td>bell dings  hello and welcome to wordvec tutor...</td>\n",
       "      <td>session  wordvec  programming with text</td>\n",
       "      <td>allison parrish has written a little bit of co...</td>\n",
       "      <td>1.508427</td>\n",
       "    </tr>\n",
       "    <tr>\n",
       "      <th>2425</th>\n",
       "      <td>4998</td>\n",
       "      <td>illustrated guide to transformers neural netwo...</td>\n",
       "      <td>transformers are taking the natural language p...</td>\n",
       "      <td>illustrated guide to deep learning</td>\n",
       "      <td>transformers are breaking multiple nlp records...</td>\n",
       "      <td>1.456864</td>\n",
       "    </tr>\n",
       "    <tr>\n",
       "      <th>2426</th>\n",
       "      <td>4999</td>\n",
       "      <td>illustrated guide to lstms and grus a step by ...</td>\n",
       "      <td>hi and welcome to an illustrated guide to lst ...</td>\n",
       "      <td>illustrated guide to deep learning</td>\n",
       "      <td>lst ms and gr use are the more evolved version...</td>\n",
       "      <td>1.612268</td>\n",
       "    </tr>\n",
       "    <tr>\n",
       "      <th>2427</th>\n",
       "      <td>5000</td>\n",
       "      <td>illustrated guide to recurrent neural networks...</td>\n",
       "      <td>hi and welcome to an illustrated guide to recu...</td>\n",
       "      <td>illustrated guide to deep learning</td>\n",
       "      <td>recurrent neural networks are a powerful techn...</td>\n",
       "      <td>1.568926</td>\n",
       "    </tr>\n",
       "  </tbody>\n",
       "</table>\n",
       "<p>4928 rows × 6 columns</p>\n",
       "</div>"
      ],
      "text/plain": [
       "      index                                              title  \\\n",
       "0         0            introduction to vertex ai feature store   \n",
       "1         1  illuminating the global fishing fleet through ...   \n",
       "2         2                 hyperparameter tuning on vertex ai   \n",
       "3         3                      endtoend mlops with vertex ai   \n",
       "4         4  transformers explained understand the model be...   \n",
       "...     ...                                                ...   \n",
       "2423   4996               color vectors  programming with text   \n",
       "2424   4997         color vectors contd  programming with text   \n",
       "2425   4998  illustrated guide to transformers neural netwo...   \n",
       "2426   4999  illustrated guide to lstms and grus a step by ...   \n",
       "2427   5000  illustrated guide to recurrent neural networks...   \n",
       "\n",
       "                                             transcript  \\\n",
       "0     priyanka vergadia did you know that most of th...   \n",
       "1     speaker  oceanic ecosystems are threatened by ...   \n",
       "2     priyanka vergadia hi im priyanka vergadia and ...   \n",
       "3     priyanka vergadia one of the biggest challenge...   \n",
       "4     so if you remember anything about transformers...   \n",
       "...                                                 ...   \n",
       "2423  bell dinging  hello part two i think im on par...   \n",
       "2424  bell dings  hello and welcome to wordvec tutor...   \n",
       "2425  transformers are taking the natural language p...   \n",
       "2426  hi and welcome to an illustrated guide to lst ...   \n",
       "2427  hi and welcome to an illustrated guide to recu...   \n",
       "\n",
       "                                          playlist_name  \\\n",
       "0             ai and machine learning with google cloud   \n",
       "1             ai and machine learning with google cloud   \n",
       "2             ai and machine learning with google cloud   \n",
       "3             ai and machine learning with google cloud   \n",
       "4     the original transformer was designed for tran...   \n",
       "...                                                 ...   \n",
       "2423            session  wordvec  programming with text   \n",
       "2424            session  wordvec  programming with text   \n",
       "2425                 illustrated guide to deep learning   \n",
       "2426                 illustrated guide to deep learning   \n",
       "2427                 illustrated guide to deep learning   \n",
       "\n",
       "                                                summary  time_taken  \n",
       "0     vertex feature store is a fully managed and un...    3.245396  \n",
       "1     brian sullivan is a cofounder of global fishin...    1.126510  \n",
       "2     priyanka vergadia shows you how to set up a hy...    1.657480  \n",
       "3     one of the biggest challenges in machine learn...    1.292592  \n",
       "4     the paper combines a model that scales really ...    1.222763  \n",
       "...                                                 ...         ...  \n",
       "2423  allison parrish has released a video tutorial ...    1.201207  \n",
       "2424  allison parrish has written a little bit of co...    1.508427  \n",
       "2425  transformers are breaking multiple nlp records...    1.456864  \n",
       "2426  lst ms and gr use are the more evolved version...    1.612268  \n",
       "2427  recurrent neural networks are a powerful techn...    1.568926  \n",
       "\n",
       "[4928 rows x 6 columns]"
      ]
     },
     "execution_count": 22,
     "metadata": {},
     "output_type": "execute_result"
    }
   ],
   "source": [
    "summaries"
   ]
  },
  {
   "cell_type": "code",
   "execution_count": 35,
   "id": "d96a334c-d92e-4835-98d1-d0829d40da7b",
   "metadata": {},
   "outputs": [
    {
     "data": {
      "text/plain": [
       "'priyanka vergadia hi im priyanka vergadia and this is ai simplified where we learn to make your data useful in the last few episodes we have been covering different components of vertex ai to get you familiar with different features in this video i thought we would help a friend of mine get into yoga so we are building a yoga pose classification model for some simple yoga poses this will help her hone her yoga skills first of all lets see how we will make this happen we need the data to create our models with this would be in the form of images and lets say we want to focus on five poses the tree the goddess the warrior ii plank and down dog my colleague sara and i have collected a bunch of images from a yoga practice that we will be using to train this model our first step would be to ingest these images using the manage data sets and then label them appropriately then comes training the model and since this is an image classification problem its a good fit for automl and as we covered in the last episode you can totally create a custom model from scratch if you wanted to but automl is just the right fit for this particular image classification problem once our model is trained we will evaluate it to understand the quality of our model and indicate areas of improvement now automl ui provides us with easy to understand charts for this that we will demystify when i show you the console then we will need an endpoint to serve our models for predictions after training our automl model we will be able to deploy an endpoint with just one click now that we have laid out the data requirements and how we will train our model we are ready to jump into the console and make it happen first thing we need is the data for this step my friend sara and i collected a bunch of images from a yoga practice and uploaded them into the manage data sets as you see here the images are labeled in five categories i can even upload unlabeled images and label them we can analyze our data set to see that we have enough examples of each categories now we are ready to train our model in here im selecting automl for training method you can also train a model to deploy on the edge or onpremise or use custom training if youre writing your own custom model code now we define our model automl automatically splits the data into training validation and test but we can change it if you want to in compute and pricing we get to select how many node hours we want to train the model at this point we wait for the model to train once it is trained we see it in the model tab and can evaluate the model we can see our models average precision it ranges from  to  where a higher value indicates a higher quality model we can see that the confusion matrix helps us understand where our model is confusing to results now that we have evaluated our model its time to deploy it to an endpoint we can split traffic between two models deployed on the same endpoint if needed allocate the number of nodes needed for this endpoint depending on where your users are select a region to deploy your endpoint and thats it hit deploy and we have an endpoint now we can test our endpoint and the model by uploading an image and yay it works you can also make predictions using the sdk all right so today we created a yoga pose classification model where we uploaded our data sets in vertex ai labeled our images in the ui and then used automl to train our model then we evaluated it and then deployed it for making predictions with just one click i know my friend will be extremely happy to use this model to hone her yoga skills stay tuned for the next episode which is all about using what vertex ai sdk in the meantime give us a like and subscribe and share with me your thoughts about this series in the comments below'"
      ]
     },
     "execution_count": 35,
     "metadata": {},
     "output_type": "execute_result"
    }
   ],
   "source": [
    "summaries['transcript'].iloc[8]"
   ]
  },
  {
   "cell_type": "code",
   "execution_count": 36,
   "id": "85768b80-9213-48a8-90ec-cf010f91dfc2",
   "metadata": {},
   "outputs": [
    {
     "data": {
      "text/plain": [
       "'priyanka vergadia and her colleague sara are building a yoga pose classification model . we will use images to train the model based on five poses the tree the goddess the warrior ii plank and down dog . automl is just the right fit for this particular image classification problem . after training our model we will be able to deploy an endpoint with just one click .the next episode is all about using what vertex ai sdk . we created a yoga pose classification model using automl and labeled images . the model can be deployed on the edge or onpremise or use custom training .'"
      ]
     },
     "execution_count": 36,
     "metadata": {},
     "output_type": "execute_result"
    }
   ],
   "source": [
    "summaries['summary'].iloc[8]"
   ]
  },
  {
   "cell_type": "code",
   "execution_count": null,
   "id": "8a56c171-0935-47fc-9044-a5d3aa4ed760",
   "metadata": {},
   "outputs": [],
   "source": []
  }
 ],
 "metadata": {
  "kernelspec": {
   "display_name": "ath_pytorch",
   "language": "python",
   "name": "ath_pytorch"
  },
  "language_info": {
   "codemirror_mode": {
    "name": "ipython",
    "version": 3
   },
   "file_extension": ".py",
   "mimetype": "text/x-python",
   "name": "python",
   "nbconvert_exporter": "python",
   "pygments_lexer": "ipython3",
   "version": "3.7.10"
  }
 },
 "nbformat": 4,
 "nbformat_minor": 5
}
