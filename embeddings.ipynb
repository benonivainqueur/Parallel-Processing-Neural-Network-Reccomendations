{
 "cells": [
  {
   "cell_type": "code",
   "execution_count": 3,
   "id": "9a88c165",
   "metadata": {},
   "outputs": [],
   "source": [
    "# from transformers import BertTokenizer, TFBertModel\n",
    "# import tensorflow as tf\n",
    "\n",
    "# # Load pre-trained BERT model and tokenizer\n",
    "# tokenizer = BertTokenizer.from_pretrained('bert-base-uncased')\n",
    "# model = TFBertModel.from_pretrained('bert-base-uncased')\n",
    "\n",
    "# # Define function to generate BERT embeddings\n",
    "# def generate_bert_embedding(text):\n",
    "#     # Tokenize input text\n",
    "#     inputs = tokenizer.encode_plus(text, add_special_tokens=True, return_tensors='tf')\n",
    "\n",
    "#     # Generate BERT embeddings\n",
    "#     outputs = model(inputs['input_ids'], attention_mask=inputs['attention_mask'])[1]\n",
    "    \n",
    "#     # Convert to numpy array\n",
    "#     embeddings = outputs.numpy()\n",
    "\n",
    "#     return embeddings"
   ]
  },
  {
   "cell_type": "code",
   "execution_count": 1,
   "id": "65ea22b6",
   "metadata": {},
   "outputs": [
    {
     "name": "stderr",
     "output_type": "stream",
     "text": [
      "Some weights of the model checkpoint at bert-base-uncased were not used when initializing BertModel: ['cls.predictions.transform.dense.weight', 'cls.predictions.decoder.weight', 'cls.predictions.transform.LayerNorm.weight', 'cls.seq_relationship.weight', 'cls.predictions.transform.dense.bias', 'cls.predictions.bias', 'cls.seq_relationship.bias', 'cls.predictions.transform.LayerNorm.bias']\n",
      "- This IS expected if you are initializing BertModel from the checkpoint of a model trained on another task or with another architecture (e.g. initializing a BertForSequenceClassification model from a BertForPreTraining model).\n",
      "- This IS NOT expected if you are initializing BertModel from the checkpoint of a model that you expect to be exactly identical (initializing a BertForSequenceClassification model from a BertForSequenceClassification model).\n"
     ]
    }
   ],
   "source": [
    "import torch\n",
    "from transformers import BertTokenizer, BertModel\n",
    "\n",
    "# Load pre-trained BERT model and tokenizer\n",
    "tokenizer = BertTokenizer.from_pretrained('bert-base-uncased')\n",
    "model = BertModel.from_pretrained('bert-base-uncased')\n",
    "\n",
    "# Define function to generate BERT embeddings\n",
    "def generate_bert_embedding(text):\n",
    "    # Tokenize input text\n",
    "    inputs = tokenizer.encode_plus(text, add_special_tokens=True, return_tensors='pt')\n",
    "\n",
    "    # Generate BERT embeddings\n",
    "    with torch.no_grad():\n",
    "        outputs = model(inputs['input_ids'], attention_mask=inputs['attention_mask'])[1]\n",
    "\n",
    "    # Convert to numpy array\n",
    "    embeddings = outputs.numpy()\n",
    "\n",
    "    return embeddings"
   ]
  },
  {
   "cell_type": "code",
   "execution_count": 2,
   "id": "df838a5d",
   "metadata": {},
   "outputs": [
    {
     "data": {
      "text/html": [
       "<div>\n",
       "<style scoped>\n",
       "    .dataframe tbody tr th:only-of-type {\n",
       "        vertical-align: middle;\n",
       "    }\n",
       "\n",
       "    .dataframe tbody tr th {\n",
       "        vertical-align: top;\n",
       "    }\n",
       "\n",
       "    .dataframe thead th {\n",
       "        text-align: right;\n",
       "    }\n",
       "</style>\n",
       "<table border=\"1\" class=\"dataframe\">\n",
       "  <thead>\n",
       "    <tr style=\"text-align: right;\">\n",
       "      <th></th>\n",
       "      <th>Unnamed: 0.1</th>\n",
       "      <th>Unnamed: 0</th>\n",
       "      <th>index</th>\n",
       "      <th>title</th>\n",
       "      <th>transcript</th>\n",
       "      <th>playlist_name</th>\n",
       "      <th>summary</th>\n",
       "      <th>time_taken</th>\n",
       "    </tr>\n",
       "  </thead>\n",
       "  <tbody>\n",
       "    <tr>\n",
       "      <th>0</th>\n",
       "      <td>0</td>\n",
       "      <td>0</td>\n",
       "      <td>0</td>\n",
       "      <td>introduction to vertex ai feature store</td>\n",
       "      <td>priyanka vergadia did you know that most of th...</td>\n",
       "      <td>ai and machine learning with google cloud</td>\n",
       "      <td>vertex feature store is a fully managed and un...</td>\n",
       "      <td>3.245396</td>\n",
       "    </tr>\n",
       "    <tr>\n",
       "      <th>1</th>\n",
       "      <td>1</td>\n",
       "      <td>1</td>\n",
       "      <td>1</td>\n",
       "      <td>illuminating the global fishing fleet through ...</td>\n",
       "      <td>speaker  oceanic ecosystems are threatened by ...</td>\n",
       "      <td>ai and machine learning with google cloud</td>\n",
       "      <td>brian sullivan is a cofounder of global fishin...</td>\n",
       "      <td>1.126510</td>\n",
       "    </tr>\n",
       "    <tr>\n",
       "      <th>2</th>\n",
       "      <td>2</td>\n",
       "      <td>2</td>\n",
       "      <td>2</td>\n",
       "      <td>hyperparameter tuning on vertex ai</td>\n",
       "      <td>priyanka vergadia hi im priyanka vergadia and ...</td>\n",
       "      <td>ai and machine learning with google cloud</td>\n",
       "      <td>priyanka vergadia shows you how to set up a hy...</td>\n",
       "      <td>1.657480</td>\n",
       "    </tr>\n",
       "    <tr>\n",
       "      <th>3</th>\n",
       "      <td>3</td>\n",
       "      <td>3</td>\n",
       "      <td>3</td>\n",
       "      <td>endtoend mlops with vertex ai</td>\n",
       "      <td>priyanka vergadia one of the biggest challenge...</td>\n",
       "      <td>ai and machine learning with google cloud</td>\n",
       "      <td>one of the biggest challenges in machine learn...</td>\n",
       "      <td>1.292592</td>\n",
       "    </tr>\n",
       "    <tr>\n",
       "      <th>4</th>\n",
       "      <td>4</td>\n",
       "      <td>4</td>\n",
       "      <td>4</td>\n",
       "      <td>transformers explained understand the model be...</td>\n",
       "      <td>so if you remember anything about transformers...</td>\n",
       "      <td>the original transformer was designed for tran...</td>\n",
       "      <td>the paper combines a model that scales really ...</td>\n",
       "      <td>1.222763</td>\n",
       "    </tr>\n",
       "  </tbody>\n",
       "</table>\n",
       "</div>"
      ],
      "text/plain": [
       "   Unnamed: 0.1  Unnamed: 0  index  \\\n",
       "0             0           0      0   \n",
       "1             1           1      1   \n",
       "2             2           2      2   \n",
       "3             3           3      3   \n",
       "4             4           4      4   \n",
       "\n",
       "                                               title  \\\n",
       "0            introduction to vertex ai feature store   \n",
       "1  illuminating the global fishing fleet through ...   \n",
       "2                 hyperparameter tuning on vertex ai   \n",
       "3                      endtoend mlops with vertex ai   \n",
       "4  transformers explained understand the model be...   \n",
       "\n",
       "                                          transcript  \\\n",
       "0  priyanka vergadia did you know that most of th...   \n",
       "1  speaker  oceanic ecosystems are threatened by ...   \n",
       "2  priyanka vergadia hi im priyanka vergadia and ...   \n",
       "3  priyanka vergadia one of the biggest challenge...   \n",
       "4  so if you remember anything about transformers...   \n",
       "\n",
       "                                       playlist_name  \\\n",
       "0          ai and machine learning with google cloud   \n",
       "1          ai and machine learning with google cloud   \n",
       "2          ai and machine learning with google cloud   \n",
       "3          ai and machine learning with google cloud   \n",
       "4  the original transformer was designed for tran...   \n",
       "\n",
       "                                             summary  time_taken  \n",
       "0  vertex feature store is a fully managed and un...    3.245396  \n",
       "1  brian sullivan is a cofounder of global fishin...    1.126510  \n",
       "2  priyanka vergadia shows you how to set up a hy...    1.657480  \n",
       "3  one of the biggest challenges in machine learn...    1.292592  \n",
       "4  the paper combines a model that scales really ...    1.222763  "
      ]
     },
     "execution_count": 2,
     "metadata": {},
     "output_type": "execute_result"
    }
   ],
   "source": [
    "import pandas as pd\n",
    "data = pd.read_csv('summaries.csv')\n",
    "data.head()"
   ]
  },
  {
   "cell_type": "code",
   "execution_count": 5,
   "id": "1de1cac0",
   "metadata": {},
   "outputs": [
    {
     "data": {
      "application/vnd.jupyter.widget-view+json": {
       "model_id": "f825565cbf3945d2a1ba83644b817d34",
       "version_major": 2,
       "version_minor": 0
      },
      "text/plain": [
       "Downloading (…)821d1/.gitattributes:   0%|          | 0.00/391 [00:00<?, ?B/s]"
      ]
     },
     "metadata": {},
     "output_type": "display_data"
    },
    {
     "data": {
      "application/vnd.jupyter.widget-view+json": {
       "model_id": "56317cb4e54a46a4b0dbad37466b3405",
       "version_major": 2,
       "version_minor": 0
      },
      "text/plain": [
       "Downloading (…)_Pooling/config.json:   0%|          | 0.00/190 [00:00<?, ?B/s]"
      ]
     },
     "metadata": {},
     "output_type": "display_data"
    },
    {
     "data": {
      "application/vnd.jupyter.widget-view+json": {
       "model_id": "f9d15bcfa9d340c48354a5ac4f47cab7",
       "version_major": 2,
       "version_minor": 0
      },
      "text/plain": [
       "Downloading (…)8d01e821d1/README.md:   0%|          | 0.00/3.95k [00:00<?, ?B/s]"
      ]
     },
     "metadata": {},
     "output_type": "display_data"
    },
    {
     "data": {
      "application/vnd.jupyter.widget-view+json": {
       "model_id": "85af6956282e41eda1059433410beaf9",
       "version_major": 2,
       "version_minor": 0
      },
      "text/plain": [
       "Downloading (…)d1/added_tokens.json:   0%|          | 0.00/2.00 [00:00<?, ?B/s]"
      ]
     },
     "metadata": {},
     "output_type": "display_data"
    },
    {
     "data": {
      "application/vnd.jupyter.widget-view+json": {
       "model_id": "7a48b81ac09c4254b5bb657586e08aa1",
       "version_major": 2,
       "version_minor": 0
      },
      "text/plain": [
       "Downloading (…)01e821d1/config.json:   0%|          | 0.00/625 [00:00<?, ?B/s]"
      ]
     },
     "metadata": {},
     "output_type": "display_data"
    },
    {
     "data": {
      "application/vnd.jupyter.widget-view+json": {
       "model_id": "3b61ea2878bc49ca96caf9ae93b6f338",
       "version_major": 2,
       "version_minor": 0
      },
      "text/plain": [
       "Downloading (…)ce_transformers.json:   0%|          | 0.00/122 [00:00<?, ?B/s]"
      ]
     },
     "metadata": {},
     "output_type": "display_data"
    },
    {
     "data": {
      "application/vnd.jupyter.widget-view+json": {
       "model_id": "b7153ec7c7834297985592c1a4c343df",
       "version_major": 2,
       "version_minor": 0
      },
      "text/plain": [
       "Downloading pytorch_model.bin:   0%|          | 0.00/438M [00:00<?, ?B/s]"
      ]
     },
     "metadata": {},
     "output_type": "display_data"
    },
    {
     "data": {
      "application/vnd.jupyter.widget-view+json": {
       "model_id": "0e1d044929c048ba80b16de9258178dc",
       "version_major": 2,
       "version_minor": 0
      },
      "text/plain": [
       "Downloading (…)nce_bert_config.json:   0%|          | 0.00/53.0 [00:00<?, ?B/s]"
      ]
     },
     "metadata": {},
     "output_type": "display_data"
    },
    {
     "data": {
      "application/vnd.jupyter.widget-view+json": {
       "model_id": "d740810fbae6443e9e1b40052de52e38",
       "version_major": 2,
       "version_minor": 0
      },
      "text/plain": [
       "Downloading (…)cial_tokens_map.json:   0%|          | 0.00/112 [00:00<?, ?B/s]"
      ]
     },
     "metadata": {},
     "output_type": "display_data"
    },
    {
     "data": {
      "application/vnd.jupyter.widget-view+json": {
       "model_id": "f0ef24b7387d42c4be25751366b81d2f",
       "version_major": 2,
       "version_minor": 0
      },
      "text/plain": [
       "Downloading (…)821d1/tokenizer.json:   0%|          | 0.00/466k [00:00<?, ?B/s]"
      ]
     },
     "metadata": {},
     "output_type": "display_data"
    },
    {
     "data": {
      "application/vnd.jupyter.widget-view+json": {
       "model_id": "e1aad36bb987418f9e76204abe2544a3",
       "version_major": 2,
       "version_minor": 0
      },
      "text/plain": [
       "Downloading (…)okenizer_config.json:   0%|          | 0.00/399 [00:00<?, ?B/s]"
      ]
     },
     "metadata": {},
     "output_type": "display_data"
    },
    {
     "data": {
      "application/vnd.jupyter.widget-view+json": {
       "model_id": "77ced71898804f0fb273cbd1eadfcfd3",
       "version_major": 2,
       "version_minor": 0
      },
      "text/plain": [
       "Downloading (…)8d01e821d1/vocab.txt:   0%|          | 0.00/232k [00:00<?, ?B/s]"
      ]
     },
     "metadata": {},
     "output_type": "display_data"
    },
    {
     "data": {
      "application/vnd.jupyter.widget-view+json": {
       "model_id": "cd7e72633f42442eacac55241c665350",
       "version_major": 2,
       "version_minor": 0
      },
      "text/plain": [
       "Downloading (…)1e821d1/modules.json:   0%|          | 0.00/229 [00:00<?, ?B/s]"
      ]
     },
     "metadata": {},
     "output_type": "display_data"
    }
   ],
   "source": [
    "from sentence_transformers import SentenceTransformer\n",
    "# Load the pre-trained model\n",
    "model = SentenceTransformer('bert-base-nli-mean-tokens')\n"
   ]
  },
  {
   "cell_type": "code",
   "execution_count": 9,
   "id": "a22f545b",
   "metadata": {},
   "outputs": [],
   "source": [
    "import torch\n",
    "device = torch.device('cuda')\n",
    "model.to(device);"
   ]
  },
  {
   "cell_type": "code",
   "execution_count": 10,
   "id": "63386e59",
   "metadata": {},
   "outputs": [],
   "source": [
    "batch_size = 2\n",
    "embeddings = []\n",
    "batch = data['summary'].values.tolist()\n",
    "# for i in range(0, len(sentences), batch_size):\n",
    "#     batch = sentences[i:i+batch_size]\n",
    "batch_embeddings = model.encode(batch)\n",
    "# embeddings += batch_embeddings"
   ]
  },
  {
   "cell_type": "code",
   "execution_count": 5,
   "id": "9023e2c8",
   "metadata": {},
   "outputs": [],
   "source": [
    "import gpl"
   ]
  },
  {
   "cell_type": "code",
   "execution_count": 1,
   "id": "f4cbd014",
   "metadata": {},
   "outputs": [],
   "source": [
    "import pandas as pd\n",
    "data = pd.read_csv('embeddings.csv')"
   ]
  },
  {
   "cell_type": "code",
   "execution_count": 2,
   "id": "a9aa3b47-772b-4b47-aa14-c5d24f585dbe",
   "metadata": {},
   "outputs": [
    {
     "data": {
      "text/html": [
       "<div>\n",
       "<style scoped>\n",
       "    .dataframe tbody tr th:only-of-type {\n",
       "        vertical-align: middle;\n",
       "    }\n",
       "\n",
       "    .dataframe tbody tr th {\n",
       "        vertical-align: top;\n",
       "    }\n",
       "\n",
       "    .dataframe thead th {\n",
       "        text-align: right;\n",
       "    }\n",
       "</style>\n",
       "<table border=\"1\" class=\"dataframe\">\n",
       "  <thead>\n",
       "    <tr style=\"text-align: right;\">\n",
       "      <th></th>\n",
       "      <th>Unnamed: 0.1</th>\n",
       "      <th>Unnamed: 0</th>\n",
       "      <th>index</th>\n",
       "      <th>title</th>\n",
       "      <th>transcript</th>\n",
       "      <th>playlist_name</th>\n",
       "      <th>summary</th>\n",
       "      <th>time_taken</th>\n",
       "      <th>embeddings</th>\n",
       "    </tr>\n",
       "  </thead>\n",
       "  <tbody>\n",
       "    <tr>\n",
       "      <th>0</th>\n",
       "      <td>0</td>\n",
       "      <td>0</td>\n",
       "      <td>0</td>\n",
       "      <td>Introduction to Vertex AI Feature Store</td>\n",
       "      <td>priyanka vergadia\\ndid you know that most of t...</td>\n",
       "      <td>AI and Machine Learning with Google Cloud</td>\n",
       "      <td>vertex feature store is a fully managed and un...</td>\n",
       "      <td>3.045746</td>\n",
       "      <td>[array([-6.05573773e-01,  3.97792995e-01,  9.2...</td>\n",
       "    </tr>\n",
       "    <tr>\n",
       "      <th>1</th>\n",
       "      <td>1</td>\n",
       "      <td>1</td>\n",
       "      <td>1</td>\n",
       "      <td>Illuminating the global fishing fleet through ...</td>\n",
       "      <td>speaker  oceanic\\necosystems are threatened by...</td>\n",
       "      <td>AI and Machine Learning with Google Cloud</td>\n",
       "      <td>brian sullivan is a cofounder of global fishin...</td>\n",
       "      <td>0.993115</td>\n",
       "      <td>[array([-0.56702006,  0.83962256, -0.5382372 ,...</td>\n",
       "    </tr>\n",
       "    <tr>\n",
       "      <th>2</th>\n",
       "      <td>2</td>\n",
       "      <td>2</td>\n",
       "      <td>2</td>\n",
       "      <td>Hyperparameter Tuning on Vertex AI</td>\n",
       "      <td>priyanka vergadia hi im priyanka vergadia and ...</td>\n",
       "      <td>AI and Machine Learning with Google Cloud</td>\n",
       "      <td>priyanka vergadia shows you how to set up a hy...</td>\n",
       "      <td>1.510149</td>\n",
       "      <td>[array([-5.00953436e-01,  2.48295903e-01,  1.0...</td>\n",
       "    </tr>\n",
       "    <tr>\n",
       "      <th>3</th>\n",
       "      <td>3</td>\n",
       "      <td>3</td>\n",
       "      <td>3</td>\n",
       "      <td>End-to-end MLOps with Vertex AI</td>\n",
       "      <td>priyanka vergadia one of the\\nbiggest challeng...</td>\n",
       "      <td>AI and Machine Learning with Google Cloud</td>\n",
       "      <td>one of the biggest challenges in machine learn...</td>\n",
       "      <td>1.262322</td>\n",
       "      <td>[array([ 5.88468239e-02,  5.29387951e-01,  1.0...</td>\n",
       "    </tr>\n",
       "    <tr>\n",
       "      <th>4</th>\n",
       "      <td>4</td>\n",
       "      <td>4</td>\n",
       "      <td>4</td>\n",
       "      <td>Transformers, explained: Understand the model ...</td>\n",
       "      <td>music playing dale markowitz the\\nneat thing a...</td>\n",
       "      <td>AI and Machine Learning with Google Cloud</td>\n",
       "      <td>transformers are models that can translate tex...</td>\n",
       "      <td>1.468086</td>\n",
       "      <td>[array([ 1.68847330e-02,  5.85486948e-01,  2.2...</td>\n",
       "    </tr>\n",
       "  </tbody>\n",
       "</table>\n",
       "</div>"
      ],
      "text/plain": [
       "   Unnamed: 0.1  Unnamed: 0  index  \\\n",
       "0             0           0      0   \n",
       "1             1           1      1   \n",
       "2             2           2      2   \n",
       "3             3           3      3   \n",
       "4             4           4      4   \n",
       "\n",
       "                                               title  \\\n",
       "0            Introduction to Vertex AI Feature Store   \n",
       "1  Illuminating the global fishing fleet through ...   \n",
       "2                 Hyperparameter Tuning on Vertex AI   \n",
       "3                    End-to-end MLOps with Vertex AI   \n",
       "4  Transformers, explained: Understand the model ...   \n",
       "\n",
       "                                          transcript  \\\n",
       "0  priyanka vergadia\\ndid you know that most of t...   \n",
       "1  speaker  oceanic\\necosystems are threatened by...   \n",
       "2  priyanka vergadia hi im priyanka vergadia and ...   \n",
       "3  priyanka vergadia one of the\\nbiggest challeng...   \n",
       "4  music playing dale markowitz the\\nneat thing a...   \n",
       "\n",
       "                               playlist_name  \\\n",
       "0  AI and Machine Learning with Google Cloud   \n",
       "1  AI and Machine Learning with Google Cloud   \n",
       "2  AI and Machine Learning with Google Cloud   \n",
       "3  AI and Machine Learning with Google Cloud   \n",
       "4  AI and Machine Learning with Google Cloud   \n",
       "\n",
       "                                             summary  time_taken  \\\n",
       "0  vertex feature store is a fully managed and un...    3.045746   \n",
       "1  brian sullivan is a cofounder of global fishin...    0.993115   \n",
       "2  priyanka vergadia shows you how to set up a hy...    1.510149   \n",
       "3  one of the biggest challenges in machine learn...    1.262322   \n",
       "4  transformers are models that can translate tex...    1.468086   \n",
       "\n",
       "                                          embeddings  \n",
       "0  [array([-6.05573773e-01,  3.97792995e-01,  9.2...  \n",
       "1  [array([-0.56702006,  0.83962256, -0.5382372 ,...  \n",
       "2  [array([-5.00953436e-01,  2.48295903e-01,  1.0...  \n",
       "3  [array([ 5.88468239e-02,  5.29387951e-01,  1.0...  \n",
       "4  [array([ 1.68847330e-02,  5.85486948e-01,  2.2...  "
      ]
     },
     "execution_count": 2,
     "metadata": {},
     "output_type": "execute_result"
    }
   ],
   "source": [
    "data.head()"
   ]
  },
  {
   "cell_type": "code",
   "execution_count": 3,
   "id": "c2704189-b111-4e97-a3e7-368a0853d3d9",
   "metadata": {},
   "outputs": [
    {
     "name": "stdout",
     "output_type": "stream",
     "text": [
      "2934\n"
     ]
    }
   ],
   "source": [
    "# Find the index of the row with the smallest summary\n",
    "smallest_index = data['summary'].apply(len).idxmin()\n",
    "\n",
    "# Print the index\n",
    "print(smallest_index)"
   ]
  },
  {
   "cell_type": "code",
   "execution_count": 4,
   "id": "f51fcaef-951d-464d-9973-f7c3512a1b9f",
   "metadata": {},
   "outputs": [
    {
     "data": {
      "text/plain": [
       "'and we get to see how it goes .'"
      ]
     },
     "execution_count": 4,
     "metadata": {},
     "output_type": "execute_result"
    }
   ],
   "source": [
    "data['summary'][smallest_index]"
   ]
  },
  {
   "cell_type": "code",
   "execution_count": 5,
   "id": "6bbeb16a-65e9-4a67-a8a5-0bc38fdfa2ce",
   "metadata": {},
   "outputs": [
    {
     "data": {
      "text/plain": [
       "'[array([ 1.39691040e-01, -1.02558279e+00,  2.95216584e+00,  5.12976408e-01,\\n        5.41067183e-01, -3.97265926e-02, -6.97978258e-01,  7.49298990e-01,\\n        1.84912160e-01, -3.64310831e-01, -2.11004436e-01,  9.45379257e-01,\\n        7.83640683e-01,  2.27819398e-01,  6.77832782e-01,  2.99350560e-01,\\n       -9.12029803e-01, -8.53784800e-01,  3.03292245e-01, -6.18065238e-01,\\n       -5.27483225e-01,  3.88267249e-01, -1.58649579e-01, -4.50729966e-01,\\n        2.08896488e-01, -1.36566925e+00,  1.13258839e-01, -7.93757856e-01,\\n       -7.36850947e-02,  5.56469500e-01, -2.37219445e-02, -9.21593726e-01,\\n        8.30129087e-01, -5.68751514e-01, -8.78810644e-01,  8.03241730e-01,\\n        4.35138583e-01,  3.80489796e-01,  2.59329110e-01, -1.48268715e-01,\\n       -2.66724199e-01, -1.35009870e-01,  1.07113183e+00,  1.35617629e-01,\\n       -4.84068424e-01, -4.85503376e-01,  3.11845869e-01,  6.16843641e-01,\\n        3.58243883e-01, -7.20143855e-01, -7.71467924e-01, -5.71433485e-01,\\n        3.57091874e-01,  6.98733807e-01, -5.90660691e-01,  4.52854127e-01,\\n        5.51592223e-02, -1.11364210e+00, -7.27209866e-01,  8.47670019e-01,\\n       -3.39059114e-01, -3.49388748e-01,  1.12578785e+00,  6.96467757e-01,\\n       -3.24961215e-01,  9.81769487e-02,  1.07704628e+00, -9.96482611e-01,\\n       -4.31792647e-01,  2.71287803e-02,  8.02374065e-01, -1.24539085e-01,\\n        2.49160245e-01,  7.59987414e-01, -1.09169662e+00, -2.31594503e-01,\\n       -1.29579823e-03,  3.52057815e-01,  7.03926086e-01,  6.02714002e-01,\\n        4.91602212e-01, -1.26897469e-01,  8.77421379e-01,  6.91629350e-01,\\n        2.31173903e-01,  1.13916993e-01,  2.02542305e-01, -1.47214308e-01,\\n       -1.68659258e+00,  5.22513747e-01, -7.30026066e-01,  1.06779188e-01,\\n        6.24911785e-01, -6.21001497e-02,  5.09794414e-01, -7.41341412e-01,\\n       -1.69949442e-01, -3.54767710e-01,  1.00273741e-02, -5.22004843e-01,\\n        2.45536461e-01, -2.92062849e-01, -3.09879571e-01, -7.05704689e-01,\\n        6.96893096e-01,  1.06941201e-01,  5.11700399e-02, -1.26780617e+00,\\n        3.18538696e-01,  7.25023806e-01,  3.09179336e-01, -2.21961796e-01,\\n        8.09002936e-01,  4.34740573e-01, -6.59879684e-01,  3.00281078e-01,\\n       -1.99233735e+00,  4.79405671e-02,  2.93021560e-01,  1.02706826e+00,\\n       -5.10406137e-01,  9.94991839e-01, -2.83975631e-01, -6.74567044e-01,\\n        6.13815069e-01, -3.72160405e-01,  3.97972286e-01,  7.24822164e-01,\\n       -5.62555075e-01, -3.20108145e-01,  1.18540876e-01,  7.72686541e-01,\\n        6.70618951e-01, -5.24563849e-01,  1.55348718e-01,  5.18603206e-01,\\n        6.84411287e-01, -8.66181612e-01, -5.86917520e-01,  8.26246262e-01,\\n       -2.34551579e-01,  4.82784003e-01,  3.49115938e-01, -4.66149934e-02,\\n       -1.69923171e-01, -2.51598656e-01,  1.13275677e-01, -2.37464055e-01,\\n       -3.62744510e-01, -2.30302081e-01, -3.88070107e-01,  9.17683423e-01,\\n       -6.05247259e-01, -1.25911140e+00, -4.91032392e-01, -3.72785658e-01,\\n       -1.12935150e+00,  1.22879779e+00, -5.83562970e-01,  3.32255036e-01,\\n        2.61117667e-01,  9.60633337e-01,  5.90909421e-01, -6.51368320e-01,\\n        4.36589122e-01, -3.68567765e-01,  4.19447720e-01,  6.45598173e-01,\\n        5.07843852e-01,  1.86089233e-01,  1.08392954e+00, -6.12049460e-01,\\n        1.66266590e-01,  4.15720969e-01,  7.03765452e-01, -3.75053376e-01,\\n        2.43801162e-01,  1.23584664e+00,  7.87310779e-01, -1.09184504e+00,\\n        6.64503336e-01, -2.87411660e-01,  3.22902948e-01, -8.06549609e-01,\\n       -1.39343596e+00, -1.01186395e+00,  3.70521620e-02,  1.54578686e-01,\\n        8.67972732e-01,  4.01759267e-01,  2.60545850e-01, -1.77751914e-01,\\n       -2.19986942e-02, -9.44476068e-01,  1.93608049e-02, -1.49155140e-01,\\n       -1.17966250e-01,  2.59239763e-01, -7.03376591e-01,  1.45002469e-01,\\n        1.14585364e+00, -8.25734854e-01,  1.80068970e-01, -3.31181407e-01,\\n        3.28062415e-01,  2.54159868e-01, -7.00324476e-01,  7.28631616e-01,\\n       -1.11928217e-01, -9.32312071e-01, -1.12003815e+00,  8.90263498e-01,\\n        6.68456972e-01,  3.56209069e-01,  2.10485831e-01, -9.08285901e-02,\\n        4.73630220e-01, -1.01509757e-01, -2.49754086e-01, -1.90289795e-01,\\n        5.50366580e-01,  6.71822250e-01,  4.05894190e-01,  6.15439951e-01,\\n       -4.67537701e-01,  5.21604478e-01,  7.30314851e-01,  3.67730230e-01,\\n        3.25783104e-01, -9.32784021e-01, -1.96839675e-01, -6.36751391e-03,\\n        2.42629960e-01,  5.52728713e-01,  3.94591421e-01,  1.55884594e-01,\\n       -3.20368767e-01, -3.40184867e-01,  1.98083842e-04,  6.96384966e-01,\\n        1.19238651e+00,  4.58376437e-01, -2.25056242e-02, -1.50999501e-01,\\n       -9.22126830e-01, -1.58384591e-01,  2.75992036e-01,  2.39727199e-01,\\n        1.60293236e-01,  9.00864601e-01,  1.81716867e-02, -1.22033429e+00,\\n       -3.76271248e-01, -1.13013124e+00, -6.93625748e-01, -9.13935453e-02,\\n       -5.66343844e-01, -4.27142322e-01, -2.38536417e-01, -1.89963430e-01,\\n       -5.97614825e-01, -3.17748636e-01, -1.11191869e+00, -1.36125788e-01,\\n       -2.63080243e-02, -8.91981125e-01, -5.24821818e-01,  3.15438002e-01,\\n        2.92405725e-01,  1.44566104e-01, -2.96394765e-01,  1.03060290e-01,\\n       -1.32538024e-02, -5.16238630e-01,  4.87663567e-01, -1.56634897e-01,\\n        9.35258508e-01,  3.99939150e-01,  2.05937520e-01,  3.81049424e-01,\\n       -5.91216147e-01, -9.96553063e-01, -1.49092293e+00,  8.25387359e-01,\\n        3.66895556e-01, -2.31976181e-01,  7.17229307e-01, -6.18704200e-01,\\n       -5.06871164e-01, -2.65950650e-01, -7.36099064e-01, -1.96193159e-01,\\n       -9.43091139e-02, -8.04832697e-01,  1.03687513e+00, -7.09093094e-01,\\n        3.32984835e-01,  1.10030174e-01, -1.24509716e+00, -2.32478991e-01,\\n       -1.94369078e-01, -3.24035063e-02, -2.35578399e-02, -1.99099764e-01,\\n        3.62115115e-01, -5.74178636e-01,  2.18642101e-01, -2.52177805e-01,\\n       -1.60161066e+00, -6.21785998e-01, -1.05845797e+00,  2.00975373e-01,\\n       -2.59756237e-01, -4.18118030e-01, -1.32901207e-01,  4.33850378e-01,\\n       -3.23153764e-01,  1.02487302e+00, -1.60511345e-01, -1.07614744e+00,\\n       -4.13808733e-01,  6.17438674e-01,  9.19953510e-02,  8.62812221e-01,\\n       -4.87847149e-01, -2.15985492e-01, -4.28712577e-01,  1.02675438e+00,\\n       -2.36115843e-01, -5.35987914e-01,  3.88338268e-01,  2.94389397e-01,\\n       -2.27302298e-01,  3.66230011e-01, -7.26272687e-02,  9.67283607e-01,\\n       -7.78073147e-02, -2.48303115e-01,  6.33561313e-01,  3.57775569e-01,\\n       -3.55791926e-01, -4.70226444e-02,  1.64683536e-02, -5.73811710e-01,\\n        9.84645844e-01, -5.59366643e-01, -1.84050173e-01, -9.08248901e-01,\\n       -1.77087381e-01,  4.10683900e-01,  9.76262018e-02, -3.14367175e-01,\\n       -5.89687824e-01,  2.43868411e-01, -9.03267324e-01,  1.09899633e-01,\\n        3.04137677e-01, -1.25129566e-01,  1.85996994e-01,  2.61077613e-01,\\n        7.45204389e-01,  3.93132195e-02, -1.00745702e+00,  2.69826472e-01,\\n       -2.14313969e-01, -5.68380296e-01,  4.05207425e-01,  4.68935855e-02,\\n        1.16971314e+00,  3.41003060e-01,  4.89553094e-01, -9.46142018e-01,\\n        7.08857179e-01,  5.22900522e-01, -7.71088183e-01,  1.06141895e-01,\\n       -1.58901215e-01, -9.19741452e-01,  1.85301632e-01, -8.34006164e-03,\\n       -5.11405915e-02, -7.66176283e-01,  3.18661809e-01, -1.20217800e-01,\\n        1.85164362e-01,  6.41069055e-01,  1.47556797e-01, -1.02488808e-01,\\n        8.21917593e-01, -5.78724205e-01, -5.74226342e-02,  1.99209213e-01,\\n        3.61687154e-01, -2.19606221e-01,  1.73898473e-01, -2.05274343e+00,\\n       -1.77321002e-01,  4.50843781e-01, -3.87801260e-01, -2.30384827e-01,\\n       -5.73063157e-02,  6.03768945e-01,  3.97713572e-01, -3.32422227e-01,\\n        2.61324365e-02, -4.99007218e-02,  4.69273061e-01, -8.27086449e-01,\\n       -1.08255112e+00, -4.06386554e-01,  2.09398329e-01,  1.36673868e-01,\\n       -2.68459767e-01,  2.28905901e-01, -4.58903611e-01,  1.15968525e+00,\\n        6.67904794e-01, -1.81271482e+00,  4.55440402e-01,  3.40769291e-01,\\n       -7.18165636e-01, -3.24835181e-01, -3.93793017e-01,  1.63806304e-01,\\n       -4.38344449e-01,  1.11079745e-01,  5.60066283e-01, -2.05481246e-01,\\n       -7.45852470e-01, -7.82521188e-01, -8.01922083e-01,  4.92891222e-01,\\n       -1.31485760e+00,  3.71778518e-01,  1.90641105e-01,  1.34160399e-01,\\n        1.03519373e-01,  6.96072161e-01, -2.86579710e-02,  7.25836694e-01,\\n        7.57746100e-01, -7.28852034e-01, -9.50911582e-01, -8.63112807e-02,\\n        1.70151964e-01,  4.18807477e-01,  2.08833680e-01, -9.63696539e-02,\\n       -5.78703821e-01, -4.74226385e-01,  7.90957630e-01,  4.24395442e-01,\\n        1.16823241e-01,  2.60697633e-01,  1.14055388e-02,  1.02354467e+00,\\n       -4.38317567e-01,  2.44928882e-01,  1.91402450e-01, -2.69086331e-01,\\n       -9.02736902e-01, -9.00829732e-02, -1.83928445e-01, -5.96018396e-02,\\n        1.62249990e-02,  7.95042366e-02, -8.13913167e-01,  5.26976168e-01,\\n        4.67833877e-01,  5.15979111e-01,  5.66160142e-01, -7.96693638e-02,\\n       -9.56002250e-02,  5.05385995e-01,  1.35876104e-01,  2.97608763e-01,\\n       -1.75754309e+00,  1.73592567e-01,  3.28050166e-01,  1.81197882e-01,\\n        4.55311865e-01,  2.84539700e-01, -2.08106428e-01, -5.19488871e-01,\\n       -3.29387188e-01,  6.35253191e-01,  2.29218781e-01,  5.25393665e-01,\\n        1.29175687e+00, -3.59553635e-01, -9.94027197e-01, -8.36248755e-01,\\n       -1.31500161e+00, -6.32032514e-01,  4.96214740e-02, -4.93564606e-01,\\n       -8.39040518e-01,  3.29214096e-01,  4.14594442e-01,  3.19751263e-01,\\n       -5.38362265e-01,  9.24026489e-01, -5.99887848e-01, -2.47440040e-01,\\n        1.05930023e-01,  6.10038579e-01, -6.63602412e-01,  4.24658179e-01,\\n       -6.91277325e-01,  7.64038146e-01, -5.06366074e-01,  9.35872138e-01,\\n        5.78725398e-01,  1.96761072e-01, -3.45260538e-02,  3.46396178e-01,\\n        6.23493753e-02, -1.54278696e-01, -5.26033603e-02, -7.07907856e-01,\\n       -2.75844544e-01,  5.88426541e-04, -3.56845617e-01, -8.69736433e-01,\\n       -3.79283994e-01,  3.83780390e-01,  1.00663388e+00, -5.09603247e-02,\\n        4.92701024e-01, -2.37907976e-01, -1.08782031e-01,  2.65170693e-01,\\n       -4.58286375e-01, -3.67348552e-01,  2.41133153e-01,  5.42490005e-01,\\n       -7.51433432e-01,  7.23627284e-02,  3.45740438e-01,  1.51861906e-01,\\n        5.99138260e-01, -9.57112834e-02, -1.06142715e-01, -5.34795702e-01,\\n       -1.84014666e+00, -4.32862252e-01, -1.01769082e-01, -9.66763079e-01,\\n       -3.17299485e-01, -8.26392949e-01, -4.23610687e-01,  2.99224406e-01,\\n       -1.49921805e-01, -6.16989136e-01, -7.24345624e-01, -4.83495623e-01,\\n        3.21173966e-02,  8.51032853e-01,  6.95010781e-01, -5.55931389e-01,\\n        4.26910847e-01, -2.57019997e-02, -5.69630921e-01,  8.34279954e-01,\\n       -6.03187740e-01,  2.13589326e-01, -3.75090599e-01,  5.41860998e-01,\\n        4.91499603e-01,  5.34582853e-01, -3.67973775e-01, -2.77014822e-01,\\n        1.06654990e+00,  1.29762506e+00, -4.73715693e-01, -1.11085646e-01,\\n        5.10337949e-01, -6.33555129e-02, -9.24964011e-01, -2.04557002e-01,\\n       -4.42833714e-02,  6.02791190e-01,  2.91786313e-01, -2.47837931e-01,\\n       -4.13572401e-01,  1.43438175e-01,  5.58192015e-01, -6.10365450e-01,\\n       -1.97191760e-01, -4.77330685e-02,  7.44184673e-01, -6.46122754e-01,\\n        2.04533428e-01, -3.73527259e-01,  5.96466921e-02, -5.26553765e-02,\\n        4.83304501e-01,  1.37357342e+00,  1.29194260e-01,  7.52101004e-01,\\n       -4.83243972e-01, -1.03125880e-02, -5.31991541e-01,  1.06406844e+00,\\n        3.94926578e-01,  4.94619757e-01, -6.56669512e-02,  1.23239895e-02,\\n       -1.64361913e-02,  3.70522052e-01, -2.24237919e-01, -9.93042231e-01,\\n       -5.44843435e-01,  1.07703112e-01,  1.24766394e-01, -1.40217125e+00,\\n       -8.81542623e-01,  4.19815421e-01,  5.81928551e-01,  1.53253183e-01,\\n       -1.69938073e-01, -9.37199127e-03, -8.74421358e-01,  4.76241559e-01,\\n        2.53207654e-01, -4.18922216e-01, -1.81798205e-01,  6.77642226e-03,\\n        4.35815789e-02,  3.74492198e-01,  8.15802157e-01,  7.33394444e-01,\\n        7.57667720e-01, -1.13076890e+00,  6.14367127e-01,  1.78423047e+00,\\n       -3.83431435e-01, -3.25181216e-01,  1.35978365e+00,  5.67391813e-01,\\n       -3.24349672e-01,  6.62617013e-02,  7.42686808e-01, -7.45380461e-01,\\n        7.80035928e-02, -1.60166919e-01,  5.81573725e-01,  5.98525941e-01,\\n        8.60531569e-01,  9.02351618e-01,  3.53612900e-01, -1.02061152e+00,\\n        2.24397164e-02,  2.70279676e-01,  2.90724579e-02, -3.80504578e-01,\\n       -3.85528266e-01,  2.53113568e-01,  4.11432534e-01, -1.27550018e+00,\\n        3.53063852e-01, -3.71302336e-01,  6.65427029e-01, -4.77660000e-01,\\n        9.17759359e-01, -1.92968979e-01, -3.96983355e-01, -2.03109160e-01,\\n       -3.99898320e-01, -5.29966176e-01,  4.94485199e-01, -4.03610587e-01,\\n       -2.72889972e-01, -8.71066689e-01,  2.25797132e-01,  1.43295765e-01,\\n        1.90454471e+00,  3.17836016e-01, -1.65402636e-01,  1.43266648e-01,\\n        1.04486322e+00, -3.09548885e-01,  5.82805037e-01, -6.46844327e-01,\\n       -4.18280333e-01, -3.04600984e-01,  4.48397160e-01, -3.62140745e-01,\\n        2.60715157e-01,  5.00194654e-02,  1.88167155e-01,  4.83090669e-01,\\n        3.41370814e-02, -1.21830142e+00,  2.36546040e-01, -9.78855789e-02,\\n       -2.31518313e-01, -2.78835595e-01, -5.62570751e-01, -9.03137565e-01,\\n       -4.14601773e-01, -4.14873213e-01, -6.72970533e-01, -3.09797913e-01,\\n       -8.77695441e-01, -1.24254262e+00, -6.61131799e-01,  4.31747258e-01,\\n       -4.66719121e-01,  4.02542092e-02,  4.20507550e-01,  2.70437032e-01,\\n        1.10895121e+00,  4.10405189e-01, -1.51547179e-01,  4.50008363e-01,\\n        2.72541553e-01, -3.69312108e-01,  1.08179212e+00, -3.33653450e-01,\\n       -4.70319778e-01,  7.11273372e-01, -7.12318003e-01,  6.48694277e-01,\\n       -2.00590193e-01, -2.88613826e-01,  7.53095686e-01, -3.06491792e-01,\\n       -3.04221421e-01, -7.70094812e-01, -4.27597523e-01,  7.19767511e-01,\\n       -1.22853138e-01,  7.07173228e-01,  6.24856412e-01, -5.18528700e-01,\\n       -2.22059593e-01,  1.31535143e-01, -1.70514598e-01, -1.79607030e-02,\\n        1.25292078e-01,  3.17874700e-02,  3.39969456e-01,  8.80995241e-04,\\n       -4.77350414e-01,  3.02483663e-02,  4.32305843e-01,  3.49225163e-01,\\n       -2.87548155e-01, -1.86534837e-01, -3.88916284e-02, -3.23007792e-01,\\n       -1.89296026e-02, -9.12884772e-01, -3.44382018e-01,  7.10745394e-01,\\n       -1.47128284e+00,  3.08099061e-01, -2.76798278e-01, -6.76774383e-01,\\n       -1.36350449e-02,  5.99568337e-02, -3.98773015e-01, -6.80457830e-01,\\n       -2.97556370e-01, -3.06660622e-01, -2.94767976e-01, -4.30368893e-02],\\n      dtype=float32)]'"
      ]
     },
     "execution_count": 5,
     "metadata": {},
     "output_type": "execute_result"
    }
   ],
   "source": [
    "data['embeddings'][smallest_index]"
   ]
  },
  {
   "cell_type": "code",
   "execution_count": 8,
   "id": "7f98c4c7-8aba-4a7e-bac9-a1aba64fe973",
   "metadata": {},
   "outputs": [
    {
     "data": {
      "text/html": [
       "<div>\n",
       "<style scoped>\n",
       "    .dataframe tbody tr th:only-of-type {\n",
       "        vertical-align: middle;\n",
       "    }\n",
       "\n",
       "    .dataframe tbody tr th {\n",
       "        vertical-align: top;\n",
       "    }\n",
       "\n",
       "    .dataframe thead th {\n",
       "        text-align: right;\n",
       "    }\n",
       "</style>\n",
       "<table border=\"1\" class=\"dataframe\">\n",
       "  <thead>\n",
       "    <tr style=\"text-align: right;\">\n",
       "      <th></th>\n",
       "      <th>Unnamed: 0</th>\n",
       "      <th>title</th>\n",
       "      <th>optembeddings</th>\n",
       "    </tr>\n",
       "  </thead>\n",
       "  <tbody>\n",
       "    <tr>\n",
       "      <th>0</th>\n",
       "      <td>0</td>\n",
       "      <td>Introduction to Vertex AI Feature Store</td>\n",
       "      <td>[[-0.739  -0.257   0.367  ... -0.8984 -0.291  ...</td>\n",
       "    </tr>\n",
       "    <tr>\n",
       "      <th>1</th>\n",
       "      <td>1</td>\n",
       "      <td>Illuminating the global fishing fleet through ...</td>\n",
       "      <td>[[-0.2725  -0.4895   0.4045  ... -0.7373   0.0...</td>\n",
       "    </tr>\n",
       "    <tr>\n",
       "      <th>2</th>\n",
       "      <td>2</td>\n",
       "      <td>Hyperparameter Tuning on Vertex AI</td>\n",
       "      <td>[[-0.34    -0.1682   0.1958  ... -1.098    0.1...</td>\n",
       "    </tr>\n",
       "    <tr>\n",
       "      <th>3</th>\n",
       "      <td>3</td>\n",
       "      <td>End-to-end MLOps with Vertex AI</td>\n",
       "      <td>[[-0.2698  -0.3826   0.3406  ... -0.9653   0.0...</td>\n",
       "    </tr>\n",
       "    <tr>\n",
       "      <th>4</th>\n",
       "      <td>4</td>\n",
       "      <td>Transformers, explained: Understand the model ...</td>\n",
       "      <td>[[-0.08826 -0.6665   0.351   ... -0.5957  -0.0...</td>\n",
       "    </tr>\n",
       "  </tbody>\n",
       "</table>\n",
       "</div>"
      ],
      "text/plain": [
       "   Unnamed: 0                                              title  \\\n",
       "0           0            Introduction to Vertex AI Feature Store   \n",
       "1           1  Illuminating the global fishing fleet through ...   \n",
       "2           2                 Hyperparameter Tuning on Vertex AI   \n",
       "3           3                    End-to-end MLOps with Vertex AI   \n",
       "4           4  Transformers, explained: Understand the model ...   \n",
       "\n",
       "                                       optembeddings  \n",
       "0  [[-0.739  -0.257   0.367  ... -0.8984 -0.291  ...  \n",
       "1  [[-0.2725  -0.4895   0.4045  ... -0.7373   0.0...  \n",
       "2  [[-0.34    -0.1682   0.1958  ... -1.098    0.1...  \n",
       "3  [[-0.2698  -0.3826   0.3406  ... -0.9653   0.0...  \n",
       "4  [[-0.08826 -0.6665   0.351   ... -0.5957  -0.0...  "
      ]
     },
     "execution_count": 8,
     "metadata": {},
     "output_type": "execute_result"
    }
   ],
   "source": [
    "opt_data = pd.read_csv('optembed.csv')\n",
    "opt_data.head()"
   ]
  },
  {
   "cell_type": "code",
   "execution_count": 9,
   "id": "683f7f61-da2a-44d9-a719-749809a53dc5",
   "metadata": {},
   "outputs": [
    {
     "data": {
      "text/plain": [
       "'[[ 0.2751  0.496   0.2366 ... -0.81    0.1746 -0.0797]]'"
      ]
     },
     "execution_count": 9,
     "metadata": {},
     "output_type": "execute_result"
    }
   ],
   "source": [
    "opt_data['optembeddings'][smallest_index]"
   ]
  },
  {
   "cell_type": "code",
   "execution_count": 10,
   "id": "23976271-2642-4d99-83bd-410f3f5fcfcd",
   "metadata": {},
   "outputs": [],
   "source": [
    "import pickle\n",
    "with open('my_dict.pickle', 'rb') as f:\n",
    "    file = f.read()"
   ]
  },
  {
   "cell_type": "code",
   "execution_count": null,
   "id": "361fa3bd-da46-415b-b40c-f4e5a7baac51",
   "metadata": {},
   "outputs": [],
   "source": [
    "file"
   ]
  },
  {
   "cell_type": "code",
   "execution_count": null,
   "id": "b5c8a9da-df23-4dd9-8269-dd94a5164d89",
   "metadata": {},
   "outputs": [],
   "source": []
  }
 ],
 "metadata": {
  "kernelspec": {
   "display_name": "base",
   "language": "python",
   "name": "base"
  },
  "language_info": {
   "codemirror_mode": {
    "name": "ipython",
    "version": 3
   },
   "file_extension": ".py",
   "mimetype": "text/x-python",
   "name": "python",
   "nbconvert_exporter": "python",
   "pygments_lexer": "ipython3",
   "version": "3.8.8"
  }
 },
 "nbformat": 4,
 "nbformat_minor": 5
}
